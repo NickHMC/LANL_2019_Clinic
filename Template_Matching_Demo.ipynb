{
 "cells": [
  {
   "cell_type": "code",
   "execution_count": 1,
   "metadata": {
    "ExecuteTime": {
     "end_time": "2019-12-14T02:46:48.349854Z",
     "start_time": "2019-12-14T02:46:46.765670Z"
    }
   },
   "outputs": [],
   "source": [
    "%matplotlib widget\n",
    "import matplotlib.pyplot as plt\n",
    "import matplotlib.colors\n",
    "import numpy as np\n",
    "from digfile import DigFile\n",
    "from spectrogram import Spectrogram\n",
    "from spectrum import Spectrum\n",
    "from spectrogram_widget import SpectrogramWidget"
   ]
  },
  {
   "cell_type": "code",
   "execution_count": 2,
   "metadata": {},
   "outputs": [
    {
     "data": {
      "text/plain": [
       "'/Users/trevorwalker/Desktop/Clinic/LANL_2019_Clinic'"
      ]
     },
     "execution_count": 2,
     "metadata": {},
     "output_type": "execute_result"
    }
   ],
   "source": [
    "pwd"
   ]
  },
  {
   "cell_type": "code",
   "execution_count": 3,
   "metadata": {
    "ExecuteTime": {
     "end_time": "2019-12-14T02:46:59.462202Z",
     "start_time": "2019-12-14T02:46:59.455004Z"
    }
   },
   "outputs": [
    {
     "name": "stdout",
     "output_type": "stream",
     "text": [
      "/Users/trevorwalker/Desktop/Clinic/dig/new\n"
     ]
    }
   ],
   "source": [
    "cd /Users/trevorwalker/Desktop/Clinic/dig/new/"
   ]
  },
  {
   "cell_type": "code",
   "execution_count": 4,
   "metadata": {
    "ExecuteTime": {
     "end_time": "2019-12-14T22:58:43.127171Z",
     "start_time": "2019-12-14T22:58:40.670049Z"
    },
    "collapsed": true
   },
   "outputs": [
    {
     "data": {
      "application/vnd.jupyter.widget-view+json": {
       "model_id": "",
       "version_major": 2,
       "version_minor": 0
      },
      "text/plain": [
       "Canvas(toolbar=Toolbar(toolitems=[('Home', 'Reset original view', 'home', 'home'), ('Back', 'Back to previous …"
      ]
     },
     "metadata": {},
     "output_type": "display_data"
    },
    {
     "data": {
      "application/vnd.jupyter.widget-view+json": {
       "model_id": "fd64536f969a44e78c980f3db71b86fa",
       "version_major": 2,
       "version_minor": 0
      },
      "text/plain": [
       "HBox(children=(VBox(children=(Dropdown(description='Color Map', options=('3w_gby', '7-section-muted', 'gr-inse…"
      ]
     },
     "metadata": {},
     "output_type": "display_data"
    },
    {
     "name": "stdout",
     "output_type": "stream",
     "text": [
      "method:  cv2.TM_SQDIFF_NORMED\n",
      "color:  red\n",
      "time:  13.926400000000001\n",
      "velocity:  3779.449462890625 \n",
      "\n",
      "method:  cv2.TM_CCOEFF_NORMED\n",
      "color:  blue\n",
      "time:  13.926400000000001\n",
      "velocity:  3779.449462890625 \n",
      "\n",
      "(most confident) time:  13.926400000000001\n",
      "             velocity:  3779.449462890625 \n",
      "\n"
     ]
    }
   ],
   "source": [
    "sw1 = SpectrogramWidget('./CH_3_009/seg00.dig') #single simple trace"
   ]
  },
  {
   "cell_type": "code",
   "execution_count": 5,
   "metadata": {
    "ExecuteTime": {
     "end_time": "2019-12-14T22:58:43.127171Z",
     "start_time": "2019-12-14T22:58:40.670049Z"
    }
   },
   "outputs": [
    {
     "data": {
      "application/vnd.jupyter.widget-view+json": {
       "model_id": "",
       "version_major": 2,
       "version_minor": 0
      },
      "text/plain": [
       "Canvas(toolbar=Toolbar(toolitems=[('Home', 'Reset original view', 'home', 'home'), ('Back', 'Back to previous …"
      ]
     },
     "metadata": {},
     "output_type": "display_data"
    },
    {
     "data": {
      "application/vnd.jupyter.widget-view+json": {
       "model_id": "0577359967714b15a145687242d3e359",
       "version_major": 2,
       "version_minor": 0
      },
      "text/plain": [
       "HBox(children=(VBox(children=(Dropdown(description='Color Map', options=('3w_gby', '7-section-muted', 'gr-inse…"
      ]
     },
     "metadata": {},
     "output_type": "display_data"
    },
    {
     "name": "stdout",
     "output_type": "stream",
     "text": [
      "method:  cv2.TM_SQDIFF_NORMED\n",
      "color:  red\n",
      "time:  9.0112\n",
      "velocity:  8883.36181640625 \n",
      "\n",
      "method:  cv2.TM_CCOEFF_NORMED\n",
      "color:  blue\n",
      "time:  11.96032\n",
      "velocity:  2620.54443359375 \n",
      "\n",
      "(most confident) time:  11.96032\n",
      "             velocity:  2620.54443359375 \n",
      "\n"
     ]
    }
   ],
   "source": [
    "sw2 = SpectrogramWidget('./CH_4_009/seg01.dig') #single trace"
   ]
  },
  {
   "cell_type": "code",
   "execution_count": 6,
   "metadata": {
    "ExecuteTime": {
     "end_time": "2019-12-14T22:58:43.127171Z",
     "start_time": "2019-12-14T22:58:40.670049Z"
    }
   },
   "outputs": [
    {
     "data": {
      "application/vnd.jupyter.widget-view+json": {
       "model_id": "",
       "version_major": 2,
       "version_minor": 0
      },
      "text/plain": [
       "Canvas(toolbar=Toolbar(toolitems=[('Home', 'Reset original view', 'home', 'home'), ('Back', 'Back to previous …"
      ]
     },
     "metadata": {},
     "output_type": "display_data"
    },
    {
     "data": {
      "application/vnd.jupyter.widget-view+json": {
       "model_id": "6b84e16432a1496ea9e83a2dc2c28849",
       "version_major": 2,
       "version_minor": 0
      },
      "text/plain": [
       "HBox(children=(VBox(children=(Dropdown(description='Color Map', options=('3w_gby', '7-section-muted', 'gr-inse…"
      ]
     },
     "metadata": {},
     "output_type": "display_data"
    },
    {
     "name": "stdout",
     "output_type": "stream",
     "text": [
      "method:  cv2.TM_SQDIFF_NORMED\n",
      "color:  red\n",
      "time:  8.97024\n",
      "velocity:  5241.0888671875 \n",
      "\n",
      "method:  cv2.TM_CCOEFF_NORMED\n",
      "color:  blue\n",
      "time:  8.97024\n",
      "velocity:  5241.0888671875 \n",
      "\n",
      "(most confident) time:  8.97024\n",
      "             velocity:  5241.0888671875 \n",
      "\n"
     ]
    }
   ],
   "source": [
    "sw3 = SpectrogramWidget('./WHITE_CH1_SHOT/seg00.dig') #frequency multiplexed"
   ]
  },
  {
   "cell_type": "code",
   "execution_count": 7,
   "metadata": {
    "ExecuteTime": {
     "end_time": "2019-12-06T21:47:04.682512Z",
     "start_time": "2019-12-06T21:47:04.509378Z"
    }
   },
   "outputs": [
    {
     "data": {
      "application/vnd.jupyter.widget-view+json": {
       "model_id": "",
       "version_major": 2,
       "version_minor": 0
      },
      "text/plain": [
       "Canvas(toolbar=Toolbar(toolitems=[('Home', 'Reset original view', 'home', 'home'), ('Back', 'Back to previous …"
      ]
     },
     "metadata": {},
     "output_type": "display_data"
    },
    {
     "data": {
      "application/vnd.jupyter.widget-view+json": {
       "model_id": "4dcc8667f98845c1ad2f5be460d31b18",
       "version_major": 2,
       "version_minor": 0
      },
      "text/plain": [
       "HBox(children=(VBox(children=(Dropdown(description='Color Map', options=('3w_gby', '7-section-muted', 'gr-inse…"
      ]
     },
     "metadata": {},
     "output_type": "display_data"
    },
    {
     "name": "stdout",
     "output_type": "stream",
     "text": [
      "method:  cv2.TM_SQDIFF_NORMED\n",
      "color:  red\n",
      "time:  0.8601599999999996\n",
      "velocity:  8883.36181640625 \n",
      "\n",
      "method:  cv2.TM_CCOEFF_NORMED\n",
      "color:  blue\n",
      "time:  15.36\n",
      "velocity:  8585.357666015625 \n",
      "\n",
      "(most confident) time:  15.36\n",
      "             velocity:  8585.357666015625 \n",
      "\n"
     ]
    }
   ],
   "source": [
    "sw4 = SpectrogramWidget('./BLUE_CH3_SHOT/seg00.dig') #frequency multiplexed"
   ]
  },
  {
   "cell_type": "code",
   "execution_count": 8,
   "metadata": {},
   "outputs": [
    {
     "data": {
      "application/vnd.jupyter.widget-view+json": {
       "model_id": "",
       "version_major": 2,
       "version_minor": 0
      },
      "text/plain": [
       "Canvas(toolbar=Toolbar(toolitems=[('Home', 'Reset original view', 'home', 'home'), ('Back', 'Back to previous …"
      ]
     },
     "metadata": {},
     "output_type": "display_data"
    },
    {
     "data": {
      "application/vnd.jupyter.widget-view+json": {
       "model_id": "aff22e4f5d4a4501af9bef53b859c670",
       "version_major": 2,
       "version_minor": 0
      },
      "text/plain": [
       "HBox(children=(VBox(children=(Dropdown(description='Color Map', options=('3w_gby', '7-section-muted', 'gr-inse…"
      ]
     },
     "metadata": {},
     "output_type": "display_data"
    }
   ],
   "source": [
    "sw5 = SpectrogramWidget('./BLUE_CH2_SHOT/seg00.dig') #frequency multiplexed"
   ]
  },
  {
   "cell_type": "code",
   "execution_count": 9,
   "metadata": {},
   "outputs": [],
   "source": [
    "# TM_CCORR    (T(x′,y′) * I(x+x′,y+y′))\n",
    "#\n",
    "# TM_SQDIFF   (T(x′,y′) − I(x+x′,y+y′))2\n",
    "#\n",
    "# TM_CCOEFF   (T′(x′,y′) * I′(x+x′,y+y′)) where   T′(x′,y′) = T(x′,y′) − 1/(w⋅h) * ∑x″,y″T(x″,y″)\n",
    "#                                         and     I′(x+x′,y+y′) = I(x+x′,y+y′) − 1/(w⋅h) * ∑x″,y″I(x+x″,y+y″)\n",
    "#\n",
    "#### Cross-Correlation Coefficient: Make dark parts of the image negative values and bright parts of the image positive values. \n",
    "#### Match both dark and bright overlapping points, and prevents mismatches between the template and the image."
   ]
  },
  {
   "cell_type": "code",
   "execution_count": null,
   "metadata": {},
   "outputs": [],
   "source": []
  },
  {
   "cell_type": "code",
   "execution_count": null,
   "metadata": {},
   "outputs": [],
   "source": []
  },
  {
   "cell_type": "code",
   "execution_count": 10,
   "metadata": {},
   "outputs": [
    {
     "name": "stdout",
     "output_type": "stream",
     "text": [
      "/Users/trevorwalker/Desktop/Clinic/LANL_2019_Clinic\n"
     ]
    }
   ],
   "source": [
    "cd /Users/trevorwalker/Desktop/Clinic/LANL_2019_Clinic/"
   ]
  },
  {
   "cell_type": "code",
   "execution_count": 11,
   "metadata": {},
   "outputs": [],
   "source": [
    "%matplotlib widget\n",
    "import matplotlib.pyplot as plt\n",
    "import matplotlib.colors\n",
    "import numpy as np\n",
    "from digfile import DigFile\n",
    "from spectrogram import Spectrogram\n",
    "from spectrum import Spectrum\n",
    "from spectrogram_widgetFMP import SpectrogramWidget"
   ]
  },
  {
   "cell_type": "code",
   "execution_count": 12,
   "metadata": {},
   "outputs": [
    {
     "name": "stdout",
     "output_type": "stream",
     "text": [
      "/Users/trevorwalker/Desktop/Clinic/dig/new\n"
     ]
    }
   ],
   "source": [
    "cd /Users/trevorwalker/Desktop/Clinic/dig/new/"
   ]
  },
  {
   "cell_type": "code",
   "execution_count": 15,
   "metadata": {},
   "outputs": [
    {
     "data": {
      "application/vnd.jupyter.widget-view+json": {
       "model_id": "cc777324f41340c59f3813c77717db5d",
       "version_major": 2,
       "version_minor": 0
      },
      "text/plain": [
       "Canvas(toolbar=Toolbar(toolitems=[('Home', 'Reset original view', 'home', 'home'), ('Back', 'Back to previous …"
      ]
     },
     "metadata": {},
     "output_type": "display_data"
    },
    {
     "data": {
      "application/vnd.jupyter.widget-view+json": {
       "model_id": "a67a060fe2fc49dab015ec871d6c18ac",
       "version_major": 2,
       "version_minor": 0
      },
      "text/plain": [
       "HBox(children=(VBox(children=(Dropdown(description='Color Map', options=('3w_gby', '7-section-muted', 'gr-inse…"
      ]
     },
     "metadata": {},
     "output_type": "display_data"
    }
   ],
   "source": [
    "sw3FMP = SpectrogramWidget('../GEN1_CHAN1TEKBAK001.dig') #identify multiple starting points"
   ]
  },
  {
   "cell_type": "code",
   "execution_count": null,
   "metadata": {},
   "outputs": [],
   "source": []
  },
  {
   "cell_type": "code",
   "execution_count": null,
   "metadata": {},
   "outputs": [],
   "source": []
  },
  {
   "cell_type": "code",
   "execution_count": null,
   "metadata": {},
   "outputs": [],
   "source": []
  }
 ],
 "metadata": {
  "kernelspec": {
   "display_name": "Python 3",
   "language": "python",
   "name": "python3"
  },
  "language_info": {
   "codemirror_mode": {
    "name": "ipython",
    "version": 3
   },
   "file_extension": ".py",
   "mimetype": "text/x-python",
   "name": "python",
   "nbconvert_exporter": "python",
   "pygments_lexer": "ipython3",
   "version": "3.6.4"
  },
  "latex_envs": {
   "LaTeX_envs_menu_present": true,
   "autoclose": false,
   "autocomplete": true,
   "bibliofile": "biblio.bib",
   "cite_by": "apalike",
   "current_citInitial": 1,
   "eqLabelWithNumbers": true,
   "eqNumInitial": 1,
   "hotkeys": {
    "equation": "Ctrl-E",
    "itemize": "Ctrl-I"
   },
   "labels_anchors": false,
   "latex_user_defs": false,
   "report_style_numbering": false,
   "user_envs_cfg": false
  },
  "toc": {
   "base_numbering": 1,
   "nav_menu": {},
   "number_sections": true,
   "sideBar": true,
   "skip_h1_title": false,
   "title_cell": "Table of Contents",
   "title_sidebar": "Contents",
   "toc_cell": false,
   "toc_position": {},
   "toc_section_display": true,
   "toc_window_display": false
  }
 },
 "nbformat": 4,
 "nbformat_minor": 2
}
