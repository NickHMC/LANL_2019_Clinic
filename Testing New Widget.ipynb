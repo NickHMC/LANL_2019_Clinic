{
 "cells": [
  {
   "cell_type": "code",
   "execution_count": 1,
   "metadata": {
    "ExecuteTime": {
     "end_time": "2019-11-18T18:26:36.626707Z",
     "start_time": "2019-11-18T18:26:35.510170Z"
    }
   },
   "outputs": [],
   "source": [
    "%matplotlib widget\n",
    "import matplotlib.pyplot as plt\n",
    "import numpy as np\n",
    "from digfile import DigFile\n",
    "from spectrogram import Spectrogram\n",
    "from spectrum import Spectrum\n",
    "from spectrogram_widget import SpectrogramWidget\n",
    "import os"
   ]
  },
  {
   "cell_type": "code",
   "execution_count": 2,
   "metadata": {
    "ExecuteTime": {
     "end_time": "2019-11-18T18:26:39.615275Z",
     "start_time": "2019-11-18T18:26:37.366023Z"
    }
   },
   "outputs": [
    {
     "data": {
      "application/vnd.jupyter.widget-view+json": {
       "model_id": "58d1f8e89aa7493f880471ea3000ba7a",
       "version_major": 2,
       "version_minor": 0
      },
      "text/plain": [
       "Canvas(toolbar=Toolbar(toolitems=[('Home', 'Reset original view', 'home', 'home'), ('Back', 'Back to  previous…"
      ]
     },
     "metadata": {},
     "output_type": "display_data"
    },
    {
     "data": {
      "application/vnd.jupyter.widget-view+json": {
       "model_id": "e33ef79f4d76404e82433ebc9fafeb57",
       "version_major": 2,
       "version_minor": 0
      },
      "text/plain": [
       "HBox(children=(VBox(children=(ValueSlider(value=(0.0, 49.99999999999999), continuous_update=False, description…"
      ]
     },
     "metadata": {},
     "output_type": "display_data"
    },
    {
     "name": "stderr",
     "output_type": "stream",
     "text": [
      "/usr/local/lib/python3.7/site-packages/scipy/optimize/minpack.py:795: OptimizeWarning: Covariance of the parameters could not be estimated\n",
      "  category=OptimizeWarning)\n",
      "/Users/saeta/Documents/Courses/Clinic/2019/LANL_2019_Clinic/gaussian.py:102: RuntimeWarning: invalid value encountered in sqrt\n",
      "  self.errors = np.sqrt(np.diag(covar))\n"
     ]
    },
    {
     "data": {
      "application/vnd.jupyter.widget-view+json": {
       "model_id": "8f93f6ada1a649d79cefcfb0b0863ff5",
       "version_major": 2,
       "version_minor": 0
      },
      "text/plain": [
       "Canvas(toolbar=Toolbar(toolitems=[('Home', 'Reset original view', 'home', 'home'), ('Back', 'Back to  previous…"
      ]
     },
     "metadata": {},
     "output_type": "display_data"
    }
   ],
   "source": [
    "import wingdbstub\n",
    "os.chdir('../dig')\n",
    "sw = SpectrogramWidget('sample.dig', t_range=(0, 100))"
   ]
  },
  {
   "cell_type": "code",
   "execution_count": 3,
   "metadata": {
    "ExecuteTime": {
     "end_time": "2019-11-18T18:27:07.894969Z",
     "start_time": "2019-11-18T18:27:07.215736Z"
    }
   },
   "outputs": [
    {
     "data": {
      "application/vnd.jupyter.widget-view+json": {
       "model_id": "b43b9f65e4354080ac620d15dab5503b",
       "version_major": 2,
       "version_minor": 0
      },
      "text/plain": [
       "Canvas(toolbar=Toolbar(toolitems=[('Home', 'Reset original view', 'home', 'home'), ('Back', 'Back to  previous…"
      ]
     },
     "metadata": {},
     "output_type": "display_data"
    },
    {
     "data": {
      "application/vnd.jupyter.widget-view+json": {
       "model_id": "d7c54e3527394fe1a233f3ee4f570e7a",
       "version_major": 2,
       "version_minor": 0
      },
      "text/plain": [
       "HBox(children=(VBox(children=(ValueSlider(value=(0.0, 49.99999999999999), continuous_update=False, description…"
      ]
     },
     "metadata": {},
     "output_type": "display_data"
    },
    {
     "data": {
      "application/vnd.jupyter.widget-view+json": {
       "model_id": "ad2ca6e9a25044eaab79f137ecdf2729",
       "version_major": 2,
       "version_minor": 0
      },
      "text/plain": [
       "Canvas(toolbar=Toolbar(toolitems=[('Home', 'Reset original view', 'home', 'home'), ('Back', 'Back to  previous…"
      ]
     },
     "metadata": {},
     "output_type": "display_data"
    }
   ],
   "source": [
    "sw2 = SpectrogramWidget('sample.dig', t_range=(0, 100))"
   ]
  },
  {
   "cell_type": "code",
   "execution_count": 9,
   "metadata": {
    "ExecuteTime": {
     "end_time": "2019-11-18T18:32:45.076878Z",
     "start_time": "2019-11-18T18:32:44.983884Z"
    }
   },
   "outputs": [
    {
     "data": {
      "application/vnd.jupyter.widget-view+json": {
       "model_id": "59ae8b29307c457e99222f83cd2ba738",
       "version_major": 2,
       "version_minor": 0
      },
      "text/plain": [
       "Canvas(toolbar=Toolbar(toolitems=[('Home', 'Reset original view', 'home', 'home'), ('Back', 'Back to  previous…"
      ]
     },
     "metadata": {},
     "output_type": "display_data"
    },
    {
     "data": {
      "text/plain": [
       "[<matplotlib.lines.Line2D at 0x124c02f10>]"
      ]
     },
     "execution_count": 9,
     "metadata": {},
     "output_type": "execute_result"
    }
   ],
   "source": [
    "figgy = plt.figure()\n",
    "ax = figgy.add_subplot(1,1,1)\n",
    "go2=sw2.gauss_outs[0]\n",
    "ax.plot(go2['time'], go2['center'], 'b.',alpha=0.75)\n",
    "go1 = sw.gauss_outs[0]\n",
    "ax.plot(go1['time'], go1['center'], 'r-', alpha=0.5)"
   ]
  },
  {
   "cell_type": "code",
   "execution_count": null,
   "metadata": {
    "ExecuteTime": {
     "end_time": "2019-11-18T02:56:33.422682Z",
     "start_time": "2019-11-18T02:56:33.416745Z"
    }
   },
   "outputs": [],
   "source": [
    "sw.baselines"
   ]
  },
  {
   "cell_type": "code",
   "execution_count": null,
   "metadata": {
    "ExecuteTime": {
     "end_time": "2019-11-18T02:56:33.978830Z",
     "start_time": "2019-11-18T02:56:33.427841Z"
    }
   },
   "outputs": [],
   "source": [
    "sw.peak_followers[0].frame"
   ]
  },
  {
   "cell_type": "code",
   "execution_count": null,
   "metadata": {
    "ExecuteTime": {
     "end_time": "2019-11-15T22:30:47.255924Z",
     "start_time": "2019-11-15T22:30:47.242460Z"
    }
   },
   "outputs": [],
   "source": [
    "sw.fig.get_size_inches()"
   ]
  },
  {
   "cell_type": "code",
   "execution_count": null,
   "metadata": {
    "ExecuteTime": {
     "end_time": "2019-11-15T22:31:43.080848Z",
     "start_time": "2019-11-15T22:31:43.068175Z"
    }
   },
   "outputs": [],
   "source": [
    "sw.fig.set_figheight(8)"
   ]
  },
  {
   "cell_type": "code",
   "execution_count": null,
   "metadata": {
    "ExecuteTime": {
     "end_time": "2019-11-15T06:19:29.978270Z",
     "start_time": "2019-11-15T06:19:29.688Z"
    }
   },
   "outputs": [],
   "source": [
    "sw.spectrogram.velocity"
   ]
  },
  {
   "cell_type": "code",
   "execution_count": null,
   "metadata": {
    "ExecuteTime": {
     "end_time": "2019-11-15T06:19:29.979712Z",
     "start_time": "2019-11-15T06:19:29.718Z"
    }
   },
   "outputs": [],
   "source": [
    "fr = sw.peak.frame"
   ]
  },
  {
   "cell_type": "code",
   "execution_count": null,
   "metadata": {
    "ExecuteTime": {
     "end_time": "2019-11-15T06:19:29.980890Z",
     "start_time": "2019-11-15T06:19:29.751Z"
    }
   },
   "outputs": [],
   "source": [
    "fr"
   ]
  },
  {
   "cell_type": "code",
   "execution_count": null,
   "metadata": {
    "ExecuteTime": {
     "end_time": "2019-11-15T06:19:29.982254Z",
     "start_time": "2019-11-15T06:19:29.785Z"
    }
   },
   "outputs": [],
   "source": [
    "figgy = plt.figure()\n",
    "ax = figgy.add_subplot(2,1,1)\n",
    "fr[\"intensities\"].plot()"
   ]
  },
  {
   "cell_type": "code",
   "execution_count": null,
   "metadata": {
    "ExecuteTime": {
     "end_time": "2019-11-15T06:19:29.983715Z",
     "start_time": "2019-11-15T06:19:29.819Z"
    }
   },
   "outputs": [],
   "source": [
    "ax = figgy.add_subplot(2,1,2)\n",
    "fr[\"velocities\"].plot()"
   ]
  },
  {
   "cell_type": "code",
   "execution_count": null,
   "metadata": {
    "ExecuteTime": {
     "end_time": "2019-11-15T06:19:29.985004Z",
     "start_time": "2019-11-15T06:19:29.853Z"
    }
   },
   "outputs": [],
   "source": [
    "follower = sw.peak"
   ]
  },
  {
   "cell_type": "code",
   "execution_count": null,
   "metadata": {
    "ExecuteTime": {
     "end_time": "2019-11-15T06:19:29.986309Z",
     "start_time": "2019-11-15T06:19:29.885Z"
    }
   },
   "outputs": [],
   "source": [
    "slider.max = 120"
   ]
  },
  {
   "cell_type": "code",
   "execution_count": null,
   "metadata": {
    "ExecuteTime": {
     "end_time": "2019-11-15T06:19:29.987727Z",
     "start_time": "2019-11-15T06:19:29.920Z"
    }
   },
   "outputs": [],
   "source": [
    "import ipywidgets as widgets\n",
    "from IPython.display import display\n",
    "slider = widgets.IntSlider(description=\"Point\", min=0, max=len(follower.results)-1, readout=True,value=0)\n",
    "slider.observe(lambda x: show_n(x['new']), names=\"value\")\n",
    "display(slider)"
   ]
  },
  {
   "cell_type": "code",
   "execution_count": null,
   "metadata": {
    "ExecuteTime": {
     "end_time": "2019-11-15T06:19:29.989025Z",
     "start_time": "2019-11-15T06:19:29.956Z"
    }
   },
   "outputs": [],
   "source": [
    "fig = plt.figure()\n",
    "ax = fig.add_subplot(1,1,1)\n",
    "ax.set_xlabel(\"$v$ (m/s)\");"
   ]
  },
  {
   "cell_type": "code",
   "execution_count": null,
   "metadata": {
    "ExecuteTime": {
     "end_time": "2019-11-15T06:19:30.099062Z",
     "start_time": "2019-11-15T06:19:30.091657Z"
    }
   },
   "outputs": [],
   "source": [
    "from scipy.stats import moment\n",
    "def show_n(n):\n",
    "    res = follower.estimate_width(n)\n",
    "    pk = moment(res['power'], 1)\n",
    "    var = moment(res['power'], 2)\n",
    "    print(f\"pk = {pk:2f} and var = {var:2f}\")\n",
    "    ax.lines = []\n",
    "    n_low, n_high = res['indices']\n",
    "    v_indices = np.arange(n_low, n_high, 1)\n",
    "    velocities = sw.spectrogram.velocity[v_indices]\n",
    "    ax.plot(velocities, res['power'], 'ro', alpha=0.4)\n",
    "    c_velocities = np.linspace(velocities[0], velocities[-1], 10 * len(velocities))\n",
    "    curve = np.exp(-((c_velocities - res['center']) / res['width'])**2) * res['amplitude']\n",
    "    ax.plot(c_velocities, curve, 'k-', alpha=0.5)\n",
    "    ax.set_ylim(0, 1.1*res['power'].max())\n",
    "    ax.set_xlim(velocities[0], velocities[-1])"
   ]
  },
  {
   "cell_type": "code",
   "execution_count": null,
   "metadata": {
    "ExecuteTime": {
     "end_time": "2019-11-15T06:19:30.112226Z",
     "start_time": "2019-11-15T06:19:30.101044Z"
    }
   },
   "outputs": [],
   "source": [
    "show_n(32)"
   ]
  },
  {
   "cell_type": "code",
   "execution_count": null,
   "metadata": {
    "ExecuteTime": {
     "end_time": "2019-11-15T06:19:30.114200Z",
     "start_time": "2019-11-15T06:19:30.073Z"
    }
   },
   "outputs": [],
   "source": [
    "show_n(55)"
   ]
  },
  {
   "cell_type": "code",
   "execution_count": null,
   "metadata": {
    "ExecuteTime": {
     "end_time": "2019-11-15T06:19:30.115481Z",
     "start_time": "2019-11-15T06:19:30.097Z"
    }
   },
   "outputs": [],
   "source": [
    "show_n(100)"
   ]
  },
  {
   "cell_type": "code",
   "execution_count": null,
   "metadata": {
    "ExecuteTime": {
     "end_time": "2019-11-15T06:19:30.226356Z",
     "start_time": "2019-11-15T06:19:30.218602Z"
    }
   },
   "outputs": [],
   "source": [
    "xv, yv = ax.lines[0]._x, ax.lines[0]._y"
   ]
  },
  {
   "cell_type": "code",
   "execution_count": null,
   "metadata": {
    "ExecuteTime": {
     "end_time": "2019-11-15T06:19:30.228521Z",
     "start_time": "2019-11-15T06:19:30.171Z"
    }
   },
   "outputs": [],
   "source": [
    "fr[['velocities']].plot()"
   ]
  },
  {
   "cell_type": "code",
   "execution_count": null,
   "metadata": {
    "ExecuteTime": {
     "end_time": "2019-11-15T06:19:30.230294Z",
     "start_time": "2019-11-15T06:19:30.197Z"
    }
   },
   "outputs": [],
   "source": [
    "SpectrogramWidget('GEN3CH_4_009.dig');"
   ]
  },
  {
   "cell_type": "code",
   "execution_count": null,
   "metadata": {
    "ExecuteTime": {
     "end_time": "2019-11-15T06:19:30.343602Z",
     "start_time": "2019-11-15T06:19:30.332250Z"
    }
   },
   "outputs": [],
   "source": [
    "df = DigFile('GEN3CH_4_009.dig')\n",
    "df.extract('sample.dig', 0.0, 50.0e-6)"
   ]
  },
  {
   "cell_type": "code",
   "execution_count": null,
   "metadata": {
    "ExecuteTime": {
     "end_time": "2019-11-15T06:19:30.345836Z",
     "start_time": "2019-11-15T06:19:30.280Z"
    }
   },
   "outputs": [],
   "source": [
    "SpectrogramWidget('sample.dig');"
   ]
  },
  {
   "cell_type": "code",
   "execution_count": null,
   "metadata": {
    "ExecuteTime": {
     "end_time": "2019-11-15T06:19:30.347456Z",
     "start_time": "2019-11-15T06:19:30.305Z"
    }
   },
   "outputs": [],
   "source": [
    "tv = np.arange(0, 2*365.25, 0.1)\n",
    "theta = 62.0 + 20.0 * np.sin(2*np.pi*tv - 3*np.pi/4.0) + 15 * np.sin(2*np.pi*tv / 365.25 + 3 * np.pi/2)"
   ]
  },
  {
   "cell_type": "code",
   "execution_count": null,
   "metadata": {
    "ExecuteTime": {
     "end_time": "2019-11-15T06:19:30.348949Z",
     "start_time": "2019-11-15T06:19:30.338Z"
    }
   },
   "outputs": [],
   "source": [
    "figgy = plt.figure()\n",
    "ax = figgy.add_subplot(1,1,1)"
   ]
  },
  {
   "cell_type": "code",
   "execution_count": null,
   "metadata": {
    "ExecuteTime": {
     "end_time": "2019-11-15T06:19:30.463016Z",
     "start_time": "2019-11-15T06:19:30.454848Z"
    }
   },
   "outputs": [],
   "source": [
    "ax.plot(tv, theta);"
   ]
  },
  {
   "cell_type": "code",
   "execution_count": null,
   "metadata": {
    "ExecuteTime": {
     "end_time": "2019-11-15T06:19:30.465043Z",
     "start_time": "2019-11-15T06:19:30.394Z"
    }
   },
   "outputs": [],
   "source": [
    "ax.lines[0].set_xdata(theta)"
   ]
  },
  {
   "cell_type": "code",
   "execution_count": null,
   "metadata": {
    "ExecuteTime": {
     "end_time": "2019-11-15T06:19:30.466596Z",
     "start_time": "2019-11-15T06:19:30.424Z"
    }
   },
   "outputs": [],
   "source": [
    "ax.set_xlim(0,365)"
   ]
  },
  {
   "cell_type": "code",
   "execution_count": null,
   "metadata": {
    "ExecuteTime": {
     "end_time": "2019-11-15T06:19:30.468203Z",
     "start_time": "2019-11-15T06:19:30.456Z"
    }
   },
   "outputs": [],
   "source": [
    "ax.lines=[]"
   ]
  },
  {
   "cell_type": "code",
   "execution_count": null,
   "metadata": {
    "ExecuteTime": {
     "end_time": "2019-11-15T06:19:30.575962Z",
     "start_time": "2019-11-15T06:19:30.572092Z"
    }
   },
   "outputs": [],
   "source": [
    "4000. / 3600. / 24."
   ]
  },
  {
   "cell_type": "code",
   "execution_count": null,
   "metadata": {
    "ExecuteTime": {
     "end_time": "2019-11-15T06:19:30.585420Z",
     "start_time": "2019-11-15T06:19:30.578157Z"
    }
   },
   "outputs": [],
   "source": [
    "sw2 = SpectrogramWidget('GEN3CH_4_009.dig', t_range=(10, 25))"
   ]
  },
  {
   "cell_type": "code",
   "execution_count": null,
   "metadata": {
    "ExecuteTime": {
     "end_time": "2019-11-15T06:19:30.587340Z",
     "start_time": "2019-11-15T06:19:30.559Z"
    }
   },
   "outputs": [],
   "source": [
    "yv"
   ]
  },
  {
   "cell_type": "code",
   "execution_count": null,
   "metadata": {
    "ExecuteTime": {
     "end_time": "2019-11-15T06:19:30.700239Z",
     "start_time": "2019-11-15T06:19:30.691736Z"
    }
   },
   "outputs": [],
   "source": [
    "zero = yv.sum()\n",
    "one = np.sum(xv * yv)\n",
    "two = np.sum(xv * xv * yv)\n",
    "mean = one / zero\n",
    "var = two / zero - mean**2\n",
    "stdev = np.sqrt(var)"
   ]
  },
  {
   "cell_type": "code",
   "execution_count": null,
   "metadata": {
    "ExecuteTime": {
     "end_time": "2019-11-15T06:19:30.702429Z",
     "start_time": "2019-11-15T06:19:30.642Z"
    }
   },
   "outputs": [],
   "source": [
    "mean"
   ]
  },
  {
   "cell_type": "code",
   "execution_count": null,
   "metadata": {
    "ExecuteTime": {
     "end_time": "2019-11-15T06:19:30.703667Z",
     "start_time": "2019-11-15T06:19:30.674Z"
    }
   },
   "outputs": [],
   "source": [
    "stdev"
   ]
  },
  {
   "cell_type": "code",
   "execution_count": null,
   "metadata": {},
   "outputs": [],
   "source": []
  }
 ],
 "metadata": {
  "kernelspec": {
   "display_name": "Python 3",
   "language": "python",
   "name": "python3"
  },
  "language_info": {
   "codemirror_mode": {
    "name": "ipython",
    "version": 3
   },
   "file_extension": ".py",
   "mimetype": "text/x-python",
   "name": "python",
   "nbconvert_exporter": "python",
   "pygments_lexer": "ipython3",
   "version": "3.7.5"
  },
  "latex_envs": {
   "LaTeX_envs_menu_present": true,
   "autoclose": false,
   "autocomplete": true,
   "bibliofile": "biblio.bib",
   "cite_by": "apalike",
   "current_citInitial": 1,
   "eqLabelWithNumbers": true,
   "eqNumInitial": 1,
   "hotkeys": {
    "equation": "Ctrl-E",
    "itemize": "Ctrl-I"
   },
   "labels_anchors": false,
   "latex_user_defs": false,
   "report_style_numbering": false,
   "user_envs_cfg": false
  },
  "toc": {
   "base_numbering": 1,
   "nav_menu": {},
   "number_sections": true,
   "sideBar": true,
   "skip_h1_title": false,
   "title_cell": "Table of Contents",
   "title_sidebar": "Contents",
   "toc_cell": false,
   "toc_position": {},
   "toc_section_display": true,
   "toc_window_display": false
  }
 },
 "nbformat": 4,
 "nbformat_minor": 2
}
