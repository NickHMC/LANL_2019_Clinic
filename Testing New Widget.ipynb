{
 "cells": [
  {
   "cell_type": "code",
   "execution_count": 1,
   "metadata": {
    "ExecuteTime": {
     "end_time": "2019-11-08T18:39:40.854957Z",
     "start_time": "2019-11-08T18:39:39.494454Z"
    }
   },
   "outputs": [],
   "source": [
    "%matplotlib widget\n",
    "import matplotlib.pyplot as plt\n",
    "import numpy as np\n",
    "from digfile import DigFile\n",
    "from spectrogram import Spectrogram\n",
    "from spectrum import Spectrum\n",
    "from spectrogram_widget import SpectrogramWidget\n",
    "import os"
   ]
  },
  {
   "cell_type": "code",
   "execution_count": null,
   "metadata": {
    "ExecuteTime": {
     "end_time": "2019-11-05T23:43:49.894599Z",
     "start_time": "2019-11-05T23:43:48.151356Z"
    }
   },
   "outputs": [],
   "source": [
    "import wingdbstub"
   ]
  },
  {
   "cell_type": "code",
   "execution_count": null,
   "metadata": {
    "ExecuteTime": {
     "end_time": "2019-11-05T23:43:54.684105Z",
     "start_time": "2019-11-05T23:43:54.678872Z"
    }
   },
   "outputs": [],
   "source": [
    "wingdbstub.Ensure()"
   ]
  },
  {
   "cell_type": "code",
   "execution_count": 2,
   "metadata": {
    "ExecuteTime": {
     "end_time": "2019-11-08T18:39:45.244841Z",
     "start_time": "2019-11-08T18:39:45.242122Z"
    }
   },
   "outputs": [],
   "source": [
    "os.chdir('../dig')"
   ]
  },
  {
   "cell_type": "code",
   "execution_count": 3,
   "metadata": {
    "ExecuteTime": {
     "end_time": "2019-11-08T18:39:46.972714Z",
     "start_time": "2019-11-08T18:39:46.540628Z"
    }
   },
   "outputs": [
    {
     "data": {
      "application/vnd.jupyter.widget-view+json": {
       "model_id": "833708ced5c040fdbcbdbfd8b830ac98",
       "version_major": 2,
       "version_minor": 0
      },
      "text/plain": [
       "Canvas(toolbar=Toolbar(toolitems=[('Home', 'Reset original view', 'home', 'home'), ('Back', 'Back to  previous…"
      ]
     },
     "metadata": {},
     "output_type": "display_data"
    },
    {
     "data": {
      "application/vnd.jupyter.widget-view+json": {
       "model_id": "a363c5382cfb459792052f0c12c1015a",
       "version_major": 2,
       "version_minor": 0
      },
      "text/plain": [
       "HBox(children=(VBox(children=(ValueSlider(value=(0.0, 49.99999999999999), continuous_update=False, description…"
      ]
     },
     "metadata": {},
     "output_type": "display_data"
    }
   ],
   "source": [
    "sw = SpectrogramWidget('sample.dig', t_range=(0, 100))"
   ]
  },
  {
   "cell_type": "code",
   "execution_count": 4,
   "metadata": {
    "ExecuteTime": {
     "end_time": "2019-11-08T18:40:56.219957Z",
     "start_time": "2019-11-08T18:40:56.215430Z"
    }
   },
   "outputs": [
    {
     "data": {
      "text/plain": [
       "array([0.00000000e+00, 4.73022461e+00, 9.46044922e+00, ...,\n",
       "       1.93655396e+04, 1.93702698e+04, 1.93750000e+04])"
      ]
     },
     "execution_count": 4,
     "metadata": {},
     "output_type": "execute_result"
    }
   ],
   "source": [
    "sw.spectrogram.velocity"
   ]
  },
  {
   "cell_type": "code",
   "execution_count": null,
   "metadata": {
    "ExecuteTime": {
     "end_time": "2019-10-29T02:13:25.204975Z",
     "start_time": "2019-10-29T02:13:25.194155Z"
    }
   },
   "outputs": [],
   "source": [
    "fr = sw.peak.frame"
   ]
  },
  {
   "cell_type": "code",
   "execution_count": null,
   "metadata": {
    "ExecuteTime": {
     "end_time": "2019-10-29T20:54:11.066456Z",
     "start_time": "2019-10-29T20:54:11.058635Z"
    }
   },
   "outputs": [],
   "source": [
    "follower = sw.peak"
   ]
  },
  {
   "cell_type": "code",
   "execution_count": null,
   "metadata": {
    "ExecuteTime": {
     "end_time": "2019-10-29T20:54:12.324693Z",
     "start_time": "2019-10-29T20:54:12.257144Z"
    }
   },
   "outputs": [],
   "source": [
    "fig = plt.figure()\n",
    "ax = fig.add_subplot(1,1,1)"
   ]
  },
  {
   "cell_type": "code",
   "execution_count": null,
   "metadata": {
    "ExecuteTime": {
     "end_time": "2019-10-29T20:54:13.317365Z",
     "start_time": "2019-10-29T20:54:13.299971Z"
    }
   },
   "outputs": [],
   "source": [
    "def show_n(n):\n",
    "    res = follower.estimate_width(n)\n",
    "    ax.lines = []\n",
    "    n_low, n_high = res['indices']\n",
    "    v_indices = np.arange(n_low, n_high, 1)\n",
    "    ax.plot(v_indices, res['power'], 'ro', alpha=0.4)\n",
    "    n_center = res['center'] + n_low - 0.5\n",
    "    c_indices = np.arange(n_low, n_high, 0.1)\n",
    "    curve = np.exp(-((c_indices - n_center) / res['width'])**2) * res['amplitude']\n",
    "    ax.plot(c_indices, curve, 'k-', alpha=0.5)\n",
    "    ax.set_ylim(0, 1.1*res['power'].max())\n",
    "    ax.set_xlim(n_low, n_high)"
   ]
  },
  {
   "cell_type": "code",
   "execution_count": null,
   "metadata": {
    "ExecuteTime": {
     "end_time": "2019-10-29T20:54:26.819648Z",
     "start_time": "2019-10-29T20:54:15.130782Z"
    }
   },
   "outputs": [],
   "source": [
    "show_n(2)"
   ]
  },
  {
   "cell_type": "code",
   "execution_count": null,
   "metadata": {
    "ExecuteTime": {
     "end_time": "2019-10-29T02:13:32.375326Z",
     "start_time": "2019-10-29T02:13:32.260721Z"
    }
   },
   "outputs": [],
   "source": [
    "fr[['velocities']].plot()"
   ]
  },
  {
   "cell_type": "code",
   "execution_count": null,
   "metadata": {
    "ExecuteTime": {
     "end_time": "2019-10-25T20:01:36.844739Z",
     "start_time": "2019-10-25T20:00:20.603692Z"
    }
   },
   "outputs": [],
   "source": [
    "SpectrogramWidget('GEN3CH_4_009.dig');"
   ]
  },
  {
   "cell_type": "code",
   "execution_count": null,
   "metadata": {
    "ExecuteTime": {
     "end_time": "2019-10-13T06:23:44.950573Z",
     "start_time": "2019-10-13T06:23:42.039392Z"
    }
   },
   "outputs": [],
   "source": [
    "df = DigFile('GEN3CH_4_009.dig')\n",
    "df.extract('sample.dig', 0.0, 50.0e-6)"
   ]
  },
  {
   "cell_type": "code",
   "execution_count": null,
   "metadata": {
    "ExecuteTime": {
     "end_time": "2019-10-15T05:11:46.608895Z",
     "start_time": "2019-10-15T05:11:42.577095Z"
    }
   },
   "outputs": [],
   "source": [
    "SpectrogramWidget('sample.dig');"
   ]
  },
  {
   "cell_type": "code",
   "execution_count": null,
   "metadata": {
    "ExecuteTime": {
     "end_time": "2019-10-13T22:40:14.353115Z",
     "start_time": "2019-10-13T22:40:14.348803Z"
    }
   },
   "outputs": [],
   "source": [
    "tv = np.arange(0, 2*365.25, 0.1)\n",
    "theta = 62.0 + 20.0 * np.sin(2*np.pi*tv - 3*np.pi/4.0) + 15 * np.sin(2*np.pi*tv / 365.25 + 3 * np.pi/2)"
   ]
  },
  {
   "cell_type": "code",
   "execution_count": null,
   "metadata": {
    "ExecuteTime": {
     "end_time": "2019-10-13T22:32:00.493497Z",
     "start_time": "2019-10-13T22:32:00.466298Z"
    }
   },
   "outputs": [],
   "source": [
    "figgy = plt.figure()\n",
    "ax = figgy.add_subplot(1,1,1)"
   ]
  },
  {
   "cell_type": "code",
   "execution_count": null,
   "metadata": {
    "ExecuteTime": {
     "end_time": "2019-10-13T22:41:31.328566Z",
     "start_time": "2019-10-13T22:41:31.322805Z"
    }
   },
   "outputs": [],
   "source": [
    "ax.plot(tv, theta);"
   ]
  },
  {
   "cell_type": "code",
   "execution_count": null,
   "metadata": {
    "ExecuteTime": {
     "end_time": "2019-10-13T22:40:58.360018Z",
     "start_time": "2019-10-13T22:40:58.357151Z"
    }
   },
   "outputs": [],
   "source": [
    "ax.lines[0].set_xdata(theta)"
   ]
  },
  {
   "cell_type": "code",
   "execution_count": null,
   "metadata": {
    "ExecuteTime": {
     "end_time": "2019-10-13T22:42:11.600735Z",
     "start_time": "2019-10-13T22:42:11.596126Z"
    }
   },
   "outputs": [],
   "source": [
    "ax.set_xlim(0,365)"
   ]
  },
  {
   "cell_type": "code",
   "execution_count": null,
   "metadata": {
    "ExecuteTime": {
     "end_time": "2019-10-13T22:35:53.302995Z",
     "start_time": "2019-10-13T22:35:53.300548Z"
    }
   },
   "outputs": [],
   "source": [
    "ax.lines=[]"
   ]
  },
  {
   "cell_type": "code",
   "execution_count": null,
   "metadata": {
    "ExecuteTime": {
     "end_time": "2019-10-13T22:47:07.210257Z",
     "start_time": "2019-10-13T22:47:07.206700Z"
    }
   },
   "outputs": [],
   "source": [
    "4000. / 3600. / 24."
   ]
  },
  {
   "cell_type": "code",
   "execution_count": 3,
   "metadata": {
    "ExecuteTime": {
     "end_time": "2019-11-06T02:48:33.628342Z",
     "start_time": "2019-11-06T02:48:18.624384Z"
    }
   },
   "outputs": [
    {
     "data": {
      "application/vnd.jupyter.widget-view+json": {
       "model_id": "9b551772a13e4022865388332801094a",
       "version_major": 2,
       "version_minor": 0
      },
      "text/plain": [
       "Canvas(toolbar=Toolbar(toolitems=[('Home', 'Reset original view', 'home', 'home'), ('Back', 'Back to  previous…"
      ]
     },
     "metadata": {},
     "output_type": "display_data"
    },
    {
     "data": {
      "application/vnd.jupyter.widget-view+json": {
       "model_id": "bd50fb04ed924871bd88ef341b9b3048",
       "version_major": 2,
       "version_minor": 0
      },
      "text/plain": [
       "HBox(children=(VBox(children=(ValueSlider(value=(-2.0000000191134487e-06, 299.99999499999996), continuous_upda…"
      ]
     },
     "metadata": {},
     "output_type": "display_data"
    }
   ],
   "source": [
    "sw2 = SpectrogramWidget('GEN3CH_4_009.dig', t_range=(10, 25))"
   ]
  },
  {
   "cell_type": "code",
   "execution_count": null,
   "metadata": {},
   "outputs": [],
   "source": []
  }
 ],
 "metadata": {
  "kernelspec": {
   "display_name": "Python 3",
   "language": "python",
   "name": "python3"
  },
  "language_info": {
   "codemirror_mode": {
    "name": "ipython",
    "version": 3
   },
   "file_extension": ".py",
   "mimetype": "text/x-python",
   "name": "python",
   "nbconvert_exporter": "python",
   "pygments_lexer": "ipython3",
   "version": "3.7.5"
  },
  "toc": {
   "base_numbering": 1,
   "nav_menu": {},
   "number_sections": true,
   "sideBar": true,
   "skip_h1_title": false,
   "title_cell": "Table of Contents",
   "title_sidebar": "Contents",
   "toc_cell": false,
   "toc_position": {},
   "toc_section_display": true,
   "toc_window_display": false
  }
 },
 "nbformat": 4,
 "nbformat_minor": 2
}
