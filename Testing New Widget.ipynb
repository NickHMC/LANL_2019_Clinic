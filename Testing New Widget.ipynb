{
 "cells": [
  {
   "cell_type": "code",
   "execution_count": 1,
   "metadata": {
    "ExecuteTime": {
     "end_time": "2019-12-14T02:46:48.349854Z",
     "start_time": "2019-12-14T02:46:46.765670Z"
    }
   },
   "outputs": [],
   "source": [
    "%matplotlib widget\n",
    "import matplotlib.pyplot as plt\n",
    "import numpy as np\n",
    "from digfile import DigFile\n",
    "from spectrogram import Spectrogram\n",
    "from spectrum import Spectrum\n",
    "from spectrogram_widget import SpectrogramWidget"
   ]
  },
  {
   "cell_type": "code",
   "execution_count": 2,
   "metadata": {
    "ExecuteTime": {
     "end_time": "2019-12-14T02:46:57.305450Z",
     "start_time": "2019-12-14T02:46:54.841646Z"
    }
   },
   "outputs": [],
   "source": [
    "# import wingdbstub"
   ]
  },
  {
   "cell_type": "code",
   "execution_count": 3,
   "metadata": {},
   "outputs": [
    {
     "data": {
      "text/plain": [
       "'/Users/trevorwalker/Desktop/Clinic/LANL_2019_Clinic'"
      ]
     },
     "execution_count": 3,
     "metadata": {},
     "output_type": "execute_result"
    }
   ],
   "source": [
    "pwd"
   ]
  },
  {
   "cell_type": "code",
   "execution_count": 4,
   "metadata": {
    "ExecuteTime": {
     "end_time": "2019-12-14T02:46:59.462202Z",
     "start_time": "2019-12-14T02:46:59.455004Z"
    }
   },
   "outputs": [
    {
     "name": "stdout",
     "output_type": "stream",
     "text": [
      "/Users/trevorwalker/Desktop/dig/new/CH_4_009\n"
     ]
    }
   ],
   "source": [
    "cd /Users/trevorwalker/Desktop/dig/new/CH_4_009/"
   ]
  },
  {
   "cell_type": "code",
   "execution_count": 5,
   "metadata": {
    "ExecuteTime": {
     "end_time": "2019-12-14T02:47:00.805741Z",
     "start_time": "2019-12-14T02:47:00.648796Z"
    }
   },
   "outputs": [],
   "source": [
    "# ls -la *.png\n",
    "# open im_cropped_bg.png"
   ]
  },
  {
   "cell_type": "code",
   "execution_count": 6,
   "metadata": {
    "ExecuteTime": {
     "end_time": "2019-12-14T22:58:43.127171Z",
     "start_time": "2019-12-14T22:58:40.670049Z"
    }
   },
   "outputs": [
    {
     "data": {
      "application/vnd.jupyter.widget-view+json": {
       "model_id": "911384c5250c4759b67dabaf53614f7e",
       "version_major": 2,
       "version_minor": 0
      },
      "text/plain": [
       "Canvas(toolbar=Toolbar(toolitems=[('Home', 'Reset original view', 'home', 'home'), ('Back', 'Back to previous …"
      ]
     },
     "metadata": {},
     "output_type": "display_data"
    },
    {
     "data": {
      "application/vnd.jupyter.widget-view+json": {
       "model_id": "b51ca8bc81b54ba2b02c829d4a4b06b1",
       "version_major": 2,
       "version_minor": 0
      },
      "text/plain": [
       "HBox(children=(VBox(children=(Dropdown(description='Color Map', options=('3w_gby', '7-section-muted', 'gr-inse…"
      ]
     },
     "metadata": {},
     "output_type": "display_data"
    },
    {
     "name": "stdout",
     "output_type": "stream",
     "text": [
      "cv2.TM_CCOEFF\n",
      "12.91376\n",
      "2645.46533203125\n",
      "40\n",
      "182121.0 \n",
      "\n",
      "cv2.TM_CCOEFF_NORMED\n",
      "6.03248\n",
      "2508.288818359375\n",
      "40\n",
      "0.36048364639282227 \n",
      "\n",
      "cv2.TM_CCORR\n",
      "12.91376\n",
      "2645.46533203125\n",
      "40\n",
      "241485.0 \n",
      "\n",
      "cv2.TM_CCORR_NORMED\n",
      "12.91376\n",
      "2645.46533203125\n",
      "40\n",
      "0.39564254879951477 \n",
      "\n",
      "cv2.TM_SQDIFF\n",
      "6.03248\n",
      "2508.288818359375\n",
      "40\n",
      "822336.0 \n",
      "\n",
      "cv2.TM_SQDIFF_NORMED\n",
      "5.66384\n",
      "2446.7958984375\n",
      "40\n",
      "1.0 \n",
      "\n"
     ]
    }
   ],
   "source": [
    "sw = SpectrogramWidget('seg01.dig')"
   ]
  },
  {
   "cell_type": "code",
   "execution_count": null,
   "metadata": {
    "ExecuteTime": {
     "end_time": "2019-12-06T21:47:04.682512Z",
     "start_time": "2019-12-06T21:47:04.509378Z"
    }
   },
   "outputs": [],
   "source": [
    "sw.baseline_intensity()"
   ]
  },
  {
   "cell_type": "code",
   "execution_count": null,
   "metadata": {
    "ExecuteTime": {
     "end_time": "2019-12-10T22:22:22.885433Z",
     "start_time": "2019-12-10T22:22:22.879988Z"
    }
   },
   "outputs": [],
   "source": [
    "import os\n",
    "os.chdir('GEN3CH_4_009')"
   ]
  },
  {
   "cell_type": "code",
   "execution_count": null,
   "metadata": {
    "ExecuteTime": {
     "end_time": "2019-12-10T17:44:06.350712Z",
     "start_time": "2019-12-10T17:44:06.180249Z"
    }
   },
   "outputs": [],
   "source": [
    "ls"
   ]
  },
  {
   "cell_type": "code",
   "execution_count": null,
   "metadata": {
    "ExecuteTime": {
     "end_time": "2019-12-10T22:22:27.371059Z",
     "start_time": "2019-12-10T22:22:25.972820Z"
    }
   },
   "outputs": [],
   "source": [
    "sw2 = SpectrogramWidget('GEN3CH_4_009_00')\n",
    "# sw2.baseline_intensity()"
   ]
  },
  {
   "cell_type": "code",
   "execution_count": null,
   "metadata": {
    "ExecuteTime": {
     "end_time": "2019-12-10T22:23:39.162016Z",
     "start_time": "2019-12-10T22:23:39.066963Z"
    }
   },
   "outputs": [],
   "source": [
    "piggy = plt.figure()\n",
    "axpig = piggy.add_subplot(1,1,1)\n",
    "go = sw2.gauss_outs[0]\n",
    "trace = axpig.errorbar(go['time'], go['center'], fmt='r-', yerr=go['width'])\n",
    "axpig.set_xlabel(r'$t$ ($\\mu$s)')\n",
    "axpig.set_ylabel(r'$v$ (m/s)')"
   ]
  },
  {
   "cell_type": "code",
   "execution_count": null,
   "metadata": {
    "ExecuteTime": {
     "end_time": "2019-12-10T22:23:58.770087Z",
     "start_time": "2019-12-10T22:23:54.983568Z"
    }
   },
   "outputs": [],
   "source": [
    "piggy.savefig('vtrace.pdf', bbox_inches='tight')"
   ]
  },
  {
   "cell_type": "code",
   "execution_count": null,
   "metadata": {
    "ExecuteTime": {
     "end_time": "2019-12-06T22:10:06.353650Z",
     "start_time": "2019-12-06T22:10:06.238008Z"
    }
   },
   "outputs": [],
   "source": [
    "sg = sw2.spectrogram\n",
    "baseline_row = sg._velocity_to_index(sw2.baselines[0]['v'])\n",
    "baseline_row\n",
    "fig = plt.figure(4)\n",
    "ax = fig.axes[0]\n",
    "ax.clear()\n",
    "shift = (-2, -1, 0, 1, 2)\n",
    "for dv in shift:\n",
    "    ax.semilogy(sg.time*1e6, sg.power(sg.intensity[baseline_row + dv,:]))\n",
    "ax.legend([str(x) for x in shift])"
   ]
  },
  {
   "cell_type": "code",
   "execution_count": null,
   "metadata": {
    "ExecuteTime": {
     "end_time": "2019-12-10T17:44:31.794544Z",
     "start_time": "2019-12-10T17:44:31.785220Z"
    }
   },
   "outputs": [],
   "source": [
    "cd GEN3CH_4_009"
   ]
  },
  {
   "cell_type": "code",
   "execution_count": null,
   "metadata": {
    "ExecuteTime": {
     "end_time": "2019-12-10T21:43:23.945978Z",
     "start_time": "2019-12-10T21:43:22.568159Z"
    }
   },
   "outputs": [],
   "source": [
    "swb = SpectrogramWidget('GEN3CH_4_009_00')"
   ]
  },
  {
   "cell_type": "code",
   "execution_count": null,
   "metadata": {
    "ExecuteTime": {
     "end_time": "2019-12-06T22:11:33.852092Z",
     "start_time": "2019-12-06T22:11:32.292843Z"
    }
   },
   "outputs": [],
   "source": [
    "sw3 = SpectrogramWidget('GEN3CH_4_009_00')\n",
    "sw3.baseline_intensity()"
   ]
  },
  {
   "cell_type": "code",
   "execution_count": null,
   "metadata": {
    "ExecuteTime": {
     "end_time": "2019-12-06T04:24:18.981991Z",
     "start_time": "2019-12-06T04:24:18.966572Z"
    }
   },
   "outputs": [],
   "source": [
    "sw.spectrogram.histogram_levels"
   ]
  },
  {
   "cell_type": "code",
   "execution_count": null,
   "metadata": {
    "ExecuteTime": {
     "end_time": "2019-12-05T23:57:20.966761Z",
     "start_time": "2019-12-05T23:57:20.890690Z"
    }
   },
   "outputs": [],
   "source": [
    "plt.figure()\n",
    "plt.plot(sw.spectrogram.histogram_levels)"
   ]
  },
  {
   "cell_type": "code",
   "execution_count": null,
   "metadata": {
    "ExecuteTime": {
     "end_time": "2019-12-06T04:24:28.737878Z",
     "start_time": "2019-12-06T04:24:27.877033Z"
    }
   },
   "outputs": [],
   "source": [
    "sw2 = SpectrogramWidget('sample', form='db')"
   ]
  },
  {
   "cell_type": "code",
   "execution_count": null,
   "metadata": {
    "ExecuteTime": {
     "end_time": "2019-12-06T00:00:18.303767Z",
     "start_time": "2019-12-06T00:00:18.286656Z"
    }
   },
   "outputs": [],
   "source": [
    "plt.figure(2)\n",
    "plt.plot(sw2.spectrogram.histogram_levels)"
   ]
  },
  {
   "cell_type": "code",
   "execution_count": null,
   "metadata": {
    "ExecuteTime": {
     "end_time": "2019-12-05T23:40:35.745090Z",
     "start_time": "2019-12-05T23:40:35.740840Z"
    }
   },
   "outputs": [],
   "source": [
    "from gross_features import horizontal_lines"
   ]
  },
  {
   "cell_type": "code",
   "execution_count": null,
   "metadata": {
    "ExecuteTime": {
     "end_time": "2019-12-05T23:40:48.661947Z",
     "start_time": "2019-12-05T23:40:48.658606Z"
    }
   },
   "outputs": [],
   "source": [
    "from plotter import COLORMAPS\n",
    "cmap = COLORMAPS['3w_gby']"
   ]
  },
  {
   "cell_type": "code",
   "execution_count": null,
   "metadata": {
    "ExecuteTime": {
     "end_time": "2019-12-05T23:41:29.658499Z",
     "start_time": "2019-12-05T23:41:29.338903Z"
    }
   },
   "outputs": [],
   "source": [
    "lines, fixed = horizontal_lines(sw.spectrogram.intensity, 0.25)\n",
    "figgy = plt.figure()\n",
    "ax = figgy.add_subplot(1,1,1)\n",
    "im = ax.pcolormesh(sw.spectrogram.time * 1e6, sw.spectrogram.velocity, fixed)\n",
    "im.set_cmap(cmap)\n",
    "im.set_clim((-19, 41))"
   ]
  },
  {
   "cell_type": "code",
   "execution_count": null,
   "metadata": {
    "ExecuteTime": {
     "end_time": "2019-12-02T17:39:44.104099Z",
     "start_time": "2019-12-02T17:39:44.096676Z"
    }
   },
   "outputs": [],
   "source": [
    "im.set_clim((-19, 41))"
   ]
  },
  {
   "cell_type": "code",
   "execution_count": null,
   "metadata": {
    "ExecuteTime": {
     "end_time": "2019-12-01T01:18:40.680415Z",
     "start_time": "2019-12-01T01:18:40.668507Z"
    }
   },
   "outputs": [],
   "source": [
    "fixed.shape"
   ]
  },
  {
   "cell_type": "code",
   "execution_count": null,
   "metadata": {
    "ExecuteTime": {
     "end_time": "2019-11-25T06:55:47.546684Z",
     "start_time": "2019-11-25T06:55:47.533494Z"
    }
   },
   "outputs": [],
   "source": [
    "sw.axSpectrum.set_xlim(0,30)"
   ]
  },
  {
   "cell_type": "code",
   "execution_count": null,
   "metadata": {
    "ExecuteTime": {
     "end_time": "2019-11-25T21:07:24.109769Z",
     "start_time": "2019-11-25T21:07:24.089977Z"
    }
   },
   "outputs": [],
   "source": [
    "def coarse(ar:np.ndarray, n0:int=8, n1:int=8):\n",
    "    \"Produce a coarse-grained version of ar\"\n",
    "    rows, cols = ar.shape\n",
    "    rows = rows // n0\n",
    "    cols = cols // n1\n",
    "    res = np.zeros((rows, cols))\n",
    "    for r in range(rows):\n",
    "        for c in range(cols):\n",
    "            res[r, c] = np.mean(ar[r*n0:(r+1)*n0, c*n1:(c+1)*n1])\n",
    "    return res"
   ]
  },
  {
   "cell_type": "code",
   "execution_count": null,
   "metadata": {
    "ExecuteTime": {
     "end_time": "2019-11-25T21:08:31.289539Z",
     "start_time": "2019-11-25T21:08:29.758300Z"
    }
   },
   "outputs": [],
   "source": [
    "sp = sw.spectrogram\n",
    "cg = coarse(sp.power(sp.intensity))"
   ]
  },
  {
   "cell_type": "code",
   "execution_count": null,
   "metadata": {
    "ExecuteTime": {
     "end_time": "2019-11-25T21:15:55.187668Z",
     "start_time": "2019-11-25T21:15:55.099324Z"
    }
   },
   "outputs": [],
   "source": [
    "figgy = plt.figure()\n",
    "axy = figgy.add_subplot(1,1,1)\n",
    "im = axy.pcolormesh(20*np.log10(cg))\n",
    "from plotter import COLORMAPS\n",
    "im.set_cmap(COLORMAPS['3w_gby'])"
   ]
  },
  {
   "cell_type": "code",
   "execution_count": null,
   "metadata": {
    "ExecuteTime": {
     "end_time": "2019-11-28T18:50:23.488548Z",
     "start_time": "2019-11-28T18:50:22.630164Z"
    }
   },
   "outputs": [],
   "source": [
    "sw2 = SpectrogramWidget('sample')"
   ]
  },
  {
   "cell_type": "code",
   "execution_count": null,
   "metadata": {
    "ExecuteTime": {
     "end_time": "2019-11-21T23:28:30.169622Z",
     "start_time": "2019-11-21T23:28:24.378800Z"
    }
   },
   "outputs": [],
   "source": [
    "sw.update_threshold(80)\n",
    "sw.display_spectrogram()"
   ]
  },
  {
   "cell_type": "code",
   "execution_count": null,
   "metadata": {
    "ExecuteTime": {
     "end_time": "2019-11-22T19:59:05.741777Z",
     "start_time": "2019-11-22T19:59:04.510394Z"
    }
   },
   "outputs": [],
   "source": [
    "sw2 = SpectrogramWidget('PDV_CHAN1BAK001')"
   ]
  },
  {
   "cell_type": "code",
   "execution_count": null,
   "metadata": {
    "ExecuteTime": {
     "end_time": "2019-11-21T23:34:41.264895Z",
     "start_time": "2019-11-21T23:34:41.257650Z"
    }
   },
   "outputs": [],
   "source": [
    "os.chdir('GEN3CH_4_009')"
   ]
  },
  {
   "cell_type": "code",
   "execution_count": null,
   "metadata": {
    "ExecuteTime": {
     "end_time": "2019-11-21T23:34:44.749408Z",
     "start_time": "2019-11-21T23:34:43.457831Z"
    }
   },
   "outputs": [],
   "source": [
    "sw2 = SpectrogramWidget('GEN3CH_4_009_01', t_range=(0,100))"
   ]
  },
  {
   "cell_type": "code",
   "execution_count": null,
   "metadata": {
    "ExecuteTime": {
     "end_time": "2019-11-21T23:42:04.197310Z",
     "start_time": "2019-11-21T23:42:02.888672Z"
    }
   },
   "outputs": [],
   "source": [
    "sw3 = SpectrogramWidget('GEN3CH_4_009_02', t_range=(0, 100))"
   ]
  },
  {
   "cell_type": "code",
   "execution_count": null,
   "metadata": {
    "ExecuteTime": {
     "end_time": "2019-11-18T18:32:45.076878Z",
     "start_time": "2019-11-18T18:32:44.983884Z"
    }
   },
   "outputs": [],
   "source": [
    "figgy = plt.figure()\n",
    "ax = figgy.add_subplot(1,1,1)\n",
    "go2=sw2.gauss_outs[0]\n",
    "ax.plot(go2['time'], go2['center'], 'b.',alpha=0.75)\n",
    "go1 = sw.gauss_outs[0]\n",
    "ax.plot(go1['time'], go1['center'], 'r-', alpha=0.5)"
   ]
  },
  {
   "cell_type": "code",
   "execution_count": null,
   "metadata": {
    "ExecuteTime": {
     "end_time": "2019-11-18T02:56:33.422682Z",
     "start_time": "2019-11-18T02:56:33.416745Z"
    }
   },
   "outputs": [],
   "source": [
    "sw.baselines"
   ]
  },
  {
   "cell_type": "code",
   "execution_count": null,
   "metadata": {
    "ExecuteTime": {
     "end_time": "2019-11-18T02:56:33.978830Z",
     "start_time": "2019-11-18T02:56:33.427841Z"
    }
   },
   "outputs": [],
   "source": [
    "sw.peak_followers[0].frame"
   ]
  },
  {
   "cell_type": "code",
   "execution_count": null,
   "metadata": {
    "ExecuteTime": {
     "end_time": "2019-11-15T22:30:47.255924Z",
     "start_time": "2019-11-15T22:30:47.242460Z"
    }
   },
   "outputs": [],
   "source": [
    "sw.fig.get_size_inches()"
   ]
  },
  {
   "cell_type": "code",
   "execution_count": null,
   "metadata": {
    "ExecuteTime": {
     "end_time": "2019-11-15T22:31:43.080848Z",
     "start_time": "2019-11-15T22:31:43.068175Z"
    }
   },
   "outputs": [],
   "source": [
    "sw.fig.set_figheight(8)"
   ]
  },
  {
   "cell_type": "code",
   "execution_count": null,
   "metadata": {
    "ExecuteTime": {
     "end_time": "2019-11-15T06:19:29.978270Z",
     "start_time": "2019-11-15T06:19:29.688Z"
    }
   },
   "outputs": [],
   "source": [
    "sw.spectrogram.velocity"
   ]
  },
  {
   "cell_type": "code",
   "execution_count": null,
   "metadata": {
    "ExecuteTime": {
     "end_time": "2019-11-15T06:19:29.979712Z",
     "start_time": "2019-11-15T06:19:29.718Z"
    }
   },
   "outputs": [],
   "source": [
    "fr = sw.peak.frame"
   ]
  },
  {
   "cell_type": "code",
   "execution_count": null,
   "metadata": {
    "ExecuteTime": {
     "end_time": "2019-11-15T06:19:29.980890Z",
     "start_time": "2019-11-15T06:19:29.751Z"
    }
   },
   "outputs": [],
   "source": [
    "fr"
   ]
  },
  {
   "cell_type": "code",
   "execution_count": null,
   "metadata": {
    "ExecuteTime": {
     "end_time": "2019-11-15T06:19:29.982254Z",
     "start_time": "2019-11-15T06:19:29.785Z"
    }
   },
   "outputs": [],
   "source": [
    "figgy = plt.figure()\n",
    "ax = figgy.add_subplot(2,1,1)\n",
    "fr[\"intensities\"].plot()"
   ]
  },
  {
   "cell_type": "code",
   "execution_count": null,
   "metadata": {
    "ExecuteTime": {
     "end_time": "2019-11-15T06:19:29.983715Z",
     "start_time": "2019-11-15T06:19:29.819Z"
    }
   },
   "outputs": [],
   "source": [
    "ax = figgy.add_subplot(2,1,2)\n",
    "fr[\"velocities\"].plot()"
   ]
  },
  {
   "cell_type": "code",
   "execution_count": null,
   "metadata": {
    "ExecuteTime": {
     "end_time": "2019-11-15T06:19:29.985004Z",
     "start_time": "2019-11-15T06:19:29.853Z"
    }
   },
   "outputs": [],
   "source": [
    "follower = sw.peak"
   ]
  },
  {
   "cell_type": "code",
   "execution_count": null,
   "metadata": {
    "ExecuteTime": {
     "end_time": "2019-11-15T06:19:29.986309Z",
     "start_time": "2019-11-15T06:19:29.885Z"
    }
   },
   "outputs": [],
   "source": [
    "slider.max = 120"
   ]
  },
  {
   "cell_type": "code",
   "execution_count": null,
   "metadata": {
    "ExecuteTime": {
     "end_time": "2019-11-15T06:19:29.987727Z",
     "start_time": "2019-11-15T06:19:29.920Z"
    }
   },
   "outputs": [],
   "source": [
    "import ipywidgets as widgets\n",
    "from IPython.display import display\n",
    "slider = widgets.IntSlider(description=\"Point\", min=0, max=len(follower.results)-1, readout=True,value=0)\n",
    "slider.observe(lambda x: show_n(x['new']), names=\"value\")\n",
    "display(slider)"
   ]
  },
  {
   "cell_type": "code",
   "execution_count": null,
   "metadata": {
    "ExecuteTime": {
     "end_time": "2019-11-15T06:19:29.989025Z",
     "start_time": "2019-11-15T06:19:29.956Z"
    }
   },
   "outputs": [],
   "source": [
    "fig = plt.figure()\n",
    "ax = fig.add_subplot(1,1,1)\n",
    "ax.set_xlabel(\"$v$ (m/s)\");"
   ]
  },
  {
   "cell_type": "code",
   "execution_count": null,
   "metadata": {
    "ExecuteTime": {
     "end_time": "2019-11-15T06:19:30.099062Z",
     "start_time": "2019-11-15T06:19:30.091657Z"
    }
   },
   "outputs": [],
   "source": [
    "from scipy.stats import moment\n",
    "def show_n(n):\n",
    "    res = follower.estimate_width(n)\n",
    "    pk = moment(res['power'], 1)\n",
    "    var = moment(res['power'], 2)\n",
    "    print(f\"pk = {pk:2f} and var = {var:2f}\")\n",
    "    ax.lines = []\n",
    "    n_low, n_high = res['indices']\n",
    "    v_indices = np.arange(n_low, n_high, 1)\n",
    "    velocities = sw.spectrogram.velocity[v_indices]\n",
    "    ax.plot(velocities, res['power'], 'ro', alpha=0.4)\n",
    "    c_velocities = np.linspace(velocities[0], velocities[-1], 10 * len(velocities))\n",
    "    curve = np.exp(-((c_velocities - res['center']) / res['width'])**2) * res['amplitude']\n",
    "    ax.plot(c_velocities, curve, 'k-', alpha=0.5)\n",
    "    ax.set_ylim(0, 1.1*res['power'].max())\n",
    "    ax.set_xlim(velocities[0], velocities[-1])"
   ]
  },
  {
   "cell_type": "code",
   "execution_count": null,
   "metadata": {
    "ExecuteTime": {
     "end_time": "2019-11-15T06:19:30.112226Z",
     "start_time": "2019-11-15T06:19:30.101044Z"
    }
   },
   "outputs": [],
   "source": [
    "show_n(32)"
   ]
  },
  {
   "cell_type": "code",
   "execution_count": null,
   "metadata": {
    "ExecuteTime": {
     "end_time": "2019-11-15T06:19:30.114200Z",
     "start_time": "2019-11-15T06:19:30.073Z"
    }
   },
   "outputs": [],
   "source": [
    "show_n(55)"
   ]
  },
  {
   "cell_type": "code",
   "execution_count": null,
   "metadata": {
    "ExecuteTime": {
     "end_time": "2019-11-15T06:19:30.115481Z",
     "start_time": "2019-11-15T06:19:30.097Z"
    }
   },
   "outputs": [],
   "source": [
    "show_n(100)"
   ]
  },
  {
   "cell_type": "code",
   "execution_count": null,
   "metadata": {
    "ExecuteTime": {
     "end_time": "2019-11-15T06:19:30.226356Z",
     "start_time": "2019-11-15T06:19:30.218602Z"
    }
   },
   "outputs": [],
   "source": [
    "xv, yv = ax.lines[0]._x, ax.lines[0]._y"
   ]
  },
  {
   "cell_type": "code",
   "execution_count": null,
   "metadata": {
    "ExecuteTime": {
     "end_time": "2019-11-15T06:19:30.228521Z",
     "start_time": "2019-11-15T06:19:30.171Z"
    }
   },
   "outputs": [],
   "source": [
    "fr[['velocities']].plot()"
   ]
  },
  {
   "cell_type": "code",
   "execution_count": null,
   "metadata": {
    "ExecuteTime": {
     "end_time": "2019-11-15T06:19:30.230294Z",
     "start_time": "2019-11-15T06:19:30.197Z"
    }
   },
   "outputs": [],
   "source": [
    "SpectrogramWidget('GEN3CH_4_009.dig');"
   ]
  },
  {
   "cell_type": "code",
   "execution_count": null,
   "metadata": {
    "ExecuteTime": {
     "end_time": "2019-11-15T06:19:30.343602Z",
     "start_time": "2019-11-15T06:19:30.332250Z"
    }
   },
   "outputs": [],
   "source": [
    "df = DigFile('GEN3CH_4_009.dig')\n",
    "df.extract('sample.dig', 0.0, 50.0e-6)"
   ]
  },
  {
   "cell_type": "code",
   "execution_count": null,
   "metadata": {
    "ExecuteTime": {
     "end_time": "2019-11-15T06:19:30.345836Z",
     "start_time": "2019-11-15T06:19:30.280Z"
    }
   },
   "outputs": [],
   "source": [
    "SpectrogramWidget('sample.dig');"
   ]
  },
  {
   "cell_type": "code",
   "execution_count": null,
   "metadata": {
    "ExecuteTime": {
     "end_time": "2019-11-15T06:19:30.347456Z",
     "start_time": "2019-11-15T06:19:30.305Z"
    }
   },
   "outputs": [],
   "source": [
    "tv = np.arange(0, 2*365.25, 0.1)\n",
    "theta = 62.0 + 20.0 * np.sin(2*np.pi*tv - 3*np.pi/4.0) + 15 * np.sin(2*np.pi*tv / 365.25 + 3 * np.pi/2)"
   ]
  },
  {
   "cell_type": "code",
   "execution_count": null,
   "metadata": {
    "ExecuteTime": {
     "end_time": "2019-11-15T06:19:30.348949Z",
     "start_time": "2019-11-15T06:19:30.338Z"
    }
   },
   "outputs": [],
   "source": [
    "figgy = plt.figure()\n",
    "ax = figgy.add_subplot(1,1,1)"
   ]
  },
  {
   "cell_type": "code",
   "execution_count": null,
   "metadata": {
    "ExecuteTime": {
     "end_time": "2019-11-15T06:19:30.463016Z",
     "start_time": "2019-11-15T06:19:30.454848Z"
    }
   },
   "outputs": [],
   "source": [
    "ax.plot(tv, theta);"
   ]
  },
  {
   "cell_type": "code",
   "execution_count": null,
   "metadata": {
    "ExecuteTime": {
     "end_time": "2019-11-15T06:19:30.465043Z",
     "start_time": "2019-11-15T06:19:30.394Z"
    }
   },
   "outputs": [],
   "source": [
    "ax.lines[0].set_xdata(theta)"
   ]
  },
  {
   "cell_type": "code",
   "execution_count": null,
   "metadata": {
    "ExecuteTime": {
     "end_time": "2019-11-15T06:19:30.466596Z",
     "start_time": "2019-11-15T06:19:30.424Z"
    }
   },
   "outputs": [],
   "source": [
    "ax.set_xlim(0,365)"
   ]
  },
  {
   "cell_type": "code",
   "execution_count": null,
   "metadata": {
    "ExecuteTime": {
     "end_time": "2019-11-15T06:19:30.468203Z",
     "start_time": "2019-11-15T06:19:30.456Z"
    }
   },
   "outputs": [],
   "source": [
    "ax.lines=[]"
   ]
  },
  {
   "cell_type": "code",
   "execution_count": null,
   "metadata": {
    "ExecuteTime": {
     "end_time": "2019-11-15T06:19:30.575962Z",
     "start_time": "2019-11-15T06:19:30.572092Z"
    }
   },
   "outputs": [],
   "source": [
    "4000. / 3600. / 24."
   ]
  },
  {
   "cell_type": "code",
   "execution_count": null,
   "metadata": {
    "ExecuteTime": {
     "end_time": "2019-11-15T06:19:30.585420Z",
     "start_time": "2019-11-15T06:19:30.578157Z"
    }
   },
   "outputs": [],
   "source": [
    "sw2 = SpectrogramWidget('GEN3CH_4_009.dig', t_range=(10, 25))"
   ]
  },
  {
   "cell_type": "code",
   "execution_count": null,
   "metadata": {
    "ExecuteTime": {
     "end_time": "2019-11-15T06:19:30.587340Z",
     "start_time": "2019-11-15T06:19:30.559Z"
    }
   },
   "outputs": [],
   "source": [
    "yv"
   ]
  },
  {
   "cell_type": "code",
   "execution_count": null,
   "metadata": {
    "ExecuteTime": {
     "end_time": "2019-11-15T06:19:30.700239Z",
     "start_time": "2019-11-15T06:19:30.691736Z"
    }
   },
   "outputs": [],
   "source": [
    "zero = yv.sum()\n",
    "one = np.sum(xv * yv)\n",
    "two = np.sum(xv * xv * yv)\n",
    "mean = one / zero\n",
    "var = two / zero - mean**2\n",
    "stdev = np.sqrt(var)"
   ]
  },
  {
   "cell_type": "code",
   "execution_count": null,
   "metadata": {
    "ExecuteTime": {
     "end_time": "2019-11-15T06:19:30.702429Z",
     "start_time": "2019-11-15T06:19:30.642Z"
    }
   },
   "outputs": [],
   "source": [
    "mean"
   ]
  },
  {
   "cell_type": "code",
   "execution_count": null,
   "metadata": {
    "ExecuteTime": {
     "end_time": "2019-11-15T06:19:30.703667Z",
     "start_time": "2019-11-15T06:19:30.674Z"
    }
   },
   "outputs": [],
   "source": [
    "stdev"
   ]
  },
  {
   "cell_type": "code",
   "execution_count": null,
   "metadata": {
    "ExecuteTime": {
     "end_time": "2019-11-25T21:04:28.795292Z",
     "start_time": "2019-11-25T21:04:27.775274Z"
    }
   },
   "outputs": [],
   "source": [
    "np.zeros(2,3)"
   ]
  },
  {
   "cell_type": "code",
   "execution_count": null,
   "metadata": {},
   "outputs": [],
   "source": []
  }
 ],
 "metadata": {
  "kernelspec": {
   "display_name": "Python 3",
   "language": "python",
   "name": "python3"
  },
  "language_info": {
   "codemirror_mode": {
    "name": "ipython",
    "version": 3
   },
   "file_extension": ".py",
   "mimetype": "text/x-python",
   "name": "python",
   "nbconvert_exporter": "python",
   "pygments_lexer": "ipython3",
   "version": "3.6.4"
  },
  "latex_envs": {
   "LaTeX_envs_menu_present": true,
   "autoclose": false,
   "autocomplete": true,
   "bibliofile": "biblio.bib",
   "cite_by": "apalike",
   "current_citInitial": 1,
   "eqLabelWithNumbers": true,
   "eqNumInitial": 1,
   "hotkeys": {
    "equation": "Ctrl-E",
    "itemize": "Ctrl-I"
   },
   "labels_anchors": false,
   "latex_user_defs": false,
   "report_style_numbering": false,
   "user_envs_cfg": false
  },
  "toc": {
   "base_numbering": 1,
   "nav_menu": {},
   "number_sections": true,
   "sideBar": true,
   "skip_h1_title": false,
   "title_cell": "Table of Contents",
   "title_sidebar": "Contents",
   "toc_cell": false,
   "toc_position": {},
   "toc_section_display": true,
   "toc_window_display": false
  }
 },
 "nbformat": 4,
 "nbformat_minor": 2
}
