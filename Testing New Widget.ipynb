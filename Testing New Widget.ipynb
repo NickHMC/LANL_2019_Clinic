{
 "cells": [
  {
   "cell_type": "code",
   "execution_count": 5,
   "metadata": {
    "ExecuteTime": {
     "end_time": "2019-10-30T17:26:46.023316Z",
     "start_time": "2019-10-30T17:26:45.586057Z"
    }
   },
   "outputs": [
    {
     "ename": "ModuleNotFoundError",
     "evalue": "No module named 'digfile'",
     "output_type": "error",
     "traceback": [
      "\u001b[0;31m---------------------------------------------------------------------------\u001b[0m",
      "\u001b[0;31mModuleNotFoundError\u001b[0m                       Traceback (most recent call last)",
      "\u001b[0;32m<ipython-input-5-27f757a6cb5d>\u001b[0m in \u001b[0;36m<module>\u001b[0;34m\u001b[0m\n\u001b[1;32m      2\u001b[0m \u001b[0;32mimport\u001b[0m \u001b[0mmatplotlib\u001b[0m\u001b[0;34m.\u001b[0m\u001b[0mpyplot\u001b[0m \u001b[0;32mas\u001b[0m \u001b[0mplt\u001b[0m\u001b[0;34m\u001b[0m\u001b[0m\n\u001b[1;32m      3\u001b[0m \u001b[0;32mimport\u001b[0m \u001b[0mnumpy\u001b[0m \u001b[0;32mas\u001b[0m \u001b[0mnp\u001b[0m\u001b[0;34m\u001b[0m\u001b[0m\n\u001b[0;32m----> 4\u001b[0;31m \u001b[0;32mfrom\u001b[0m \u001b[0mdigfile\u001b[0m \u001b[0;32mimport\u001b[0m \u001b[0mDigFile\u001b[0m\u001b[0;34m\u001b[0m\u001b[0m\n\u001b[0m\u001b[1;32m      5\u001b[0m \u001b[0;32mfrom\u001b[0m \u001b[0mspectrogram\u001b[0m \u001b[0;32mimport\u001b[0m \u001b[0mSpectrogram\u001b[0m\u001b[0;34m\u001b[0m\u001b[0m\n\u001b[1;32m      6\u001b[0m \u001b[0;32mfrom\u001b[0m \u001b[0mspectrum\u001b[0m \u001b[0;32mimport\u001b[0m \u001b[0mSpectrum\u001b[0m\u001b[0;34m\u001b[0m\u001b[0m\n",
      "\u001b[0;31mModuleNotFoundError\u001b[0m: No module named 'digfile'"
     ]
    }
   ],
   "source": [
    "%matplotlib widget\n",
    "import matplotlib.pyplot as plt\n",
    "import numpy as np\n",
    "from digfile import DigFile\n",
    "from spectrogram import Spectrogram\n",
    "from spectrum import Spectrum\n",
    "from spectrogram_widget import SpectrogramWidget\n",
    "import os"
   ]
  },
  {
   "cell_type": "code",
   "execution_count": null,
   "metadata": {
    "ExecuteTime": {
     "end_time": "2019-10-30T17:26:46.682270Z",
     "start_time": "2019-10-30T17:26:46.024648Z"
    }
   },
   "outputs": [],
   "source": [
    "# import wingdbstub"
   ]
  },
  {
   "cell_type": "code",
   "execution_count": 2,
   "metadata": {
    "ExecuteTime": {
     "end_time": "2019-10-30T17:26:48.900844Z",
     "start_time": "2019-10-30T17:26:48.897472Z"
    }
   },
   "outputs": [],
   "source": [
    "# wingdbstub.Ensure()"
   ]
  },
  {
   "cell_type": "code",
   "execution_count": 3,
   "metadata": {
    "ExecuteTime": {
     "end_time": "2019-10-30T17:26:49.042147Z",
     "start_time": "2019-10-30T17:26:49.037948Z"
    }
   },
   "outputs": [],
   "source": [
    "# os.chdir('../For_Candace/dig')"
   ]
  },
  {
   "cell_type": "code",
   "execution_count": 4,
   "metadata": {
    "ExecuteTime": {
     "end_time": "2019-10-30T17:26:50.372014Z",
     "start_time": "2019-10-30T17:26:49.724442Z"
    },
    "scrolled": false
   },
   "outputs": [
    {
     "data": {
      "application/vnd.jupyter.widget-view+json": {
       "model_id": "",
       "version_major": 2,
       "version_minor": 0
      },
      "text/plain": [
       "Canvas(toolbar=Toolbar(toolitems=[('Home', 'Reset original view', 'home', 'home'), ('Back', 'Back to previous …"
      ]
     },
     "metadata": {},
     "output_type": "display_data"
    },
    {
     "data": {
      "application/vnd.jupyter.widget-view+json": {
       "model_id": "a9b300bf064845cdbb9b3cfb5e4232cc",
       "version_major": 2,
       "version_minor": 0
      },
      "text/plain": [
       "HBox(children=(VBox(children=(PercentSlider(value=(0, 25), continuous_update=False, description='Time Range', …"
      ]
     },
     "metadata": {},
     "output_type": "display_data"
    },
    {
     "ename": "ValueError",
     "evalue": "The truth value of an array with more than one element is ambiguous. Use a.any() or a.all()",
     "output_type": "error",
     "traceback": [
      "\u001b[0;31m---------------------------------------------------------------------------\u001b[0m",
      "\u001b[0;31mValueError\u001b[0m                                Traceback (most recent call last)",
      "\u001b[0;32m<ipython-input-4-4bd34163c3b7>\u001b[0m in \u001b[0;36m<module>\u001b[0;34m\u001b[0m\n\u001b[0;32m----> 1\u001b[0;31m \u001b[0msw\u001b[0m \u001b[0;34m=\u001b[0m \u001b[0mSpectrogramWidget\u001b[0m\u001b[0;34m(\u001b[0m\u001b[0;34m'GEN3CH_4_009.dig'\u001b[0m\u001b[0;34m,\u001b[0m \u001b[0mt_range\u001b[0m\u001b[0;34m=\u001b[0m\u001b[0;34m(\u001b[0m\u001b[0;36m0\u001b[0m\u001b[0;34m,\u001b[0m \u001b[0;36m100\u001b[0m\u001b[0;34m)\u001b[0m\u001b[0;34m)\u001b[0m\u001b[0;34m\u001b[0m\u001b[0m\n\u001b[0m",
      "\u001b[0;32m~/Desktop/Clinic/LANL_2019_Clinic/spectrogram_widget.py\u001b[0m in \u001b[0;36m__init__\u001b[0;34m(self, spectrogram, **kwargs)\u001b[0m\n\u001b[1;32m    128\u001b[0m \u001b[0;34m\u001b[0m\u001b[0m\n\u001b[1;32m    129\u001b[0m         \u001b[0mdisplay\u001b[0m\u001b[0;34m(\u001b[0m\u001b[0mself\u001b[0m\u001b[0;34m.\u001b[0m\u001b[0mcontrols\u001b[0m\u001b[0;34m)\u001b[0m\u001b[0;34m\u001b[0m\u001b[0m\n\u001b[0;32m--> 130\u001b[0;31m         \u001b[0mself\u001b[0m\u001b[0;34m.\u001b[0m\u001b[0mupdate_spectrogram\u001b[0m\u001b[0;34m(\u001b[0m\u001b[0;34m)\u001b[0m\u001b[0;34m\u001b[0m\u001b[0m\n\u001b[0m\u001b[1;32m    131\u001b[0m \u001b[0;34m\u001b[0m\u001b[0m\n\u001b[1;32m    132\u001b[0m     \u001b[0;32mdef\u001b[0m \u001b[0mmake_controls\u001b[0m\u001b[0;34m(\u001b[0m\u001b[0mself\u001b[0m\u001b[0;34m)\u001b[0m\u001b[0;34m:\u001b[0m\u001b[0;34m\u001b[0m\u001b[0m\n",
      "\u001b[0;32m~/Desktop/Clinic/LANL_2019_Clinic/spectrogram_widget.py\u001b[0m in \u001b[0;36mupdate_spectrogram\u001b[0;34m(self)\u001b[0m\n\u001b[1;32m    190\u001b[0m         \u001b[0msg\u001b[0m \u001b[0;34m=\u001b[0m \u001b[0mself\u001b[0m\u001b[0;34m.\u001b[0m\u001b[0mspectrogram\u001b[0m\u001b[0;34m\u001b[0m\u001b[0m\n\u001b[1;32m    191\u001b[0m         \u001b[0mtmin\u001b[0m\u001b[0;34m,\u001b[0m \u001b[0mtmax\u001b[0m \u001b[0;34m=\u001b[0m \u001b[0mself\u001b[0m\u001b[0;34m.\u001b[0m\u001b[0mrange\u001b[0m\u001b[0;34m(\u001b[0m\u001b[0;34m't_range'\u001b[0m\u001b[0;34m)\u001b[0m\u001b[0;34m\u001b[0m\u001b[0m\n\u001b[0;32m--> 192\u001b[0;31m         \u001b[0mself\u001b[0m\u001b[0;34m.\u001b[0m\u001b[0msgram\u001b[0m \u001b[0;34m=\u001b[0m \u001b[0msg\u001b[0m\u001b[0;34m.\u001b[0m\u001b[0mspectrogram\u001b[0m\u001b[0;34m(\u001b[0m\u001b[0mtmin\u001b[0m\u001b[0;34m,\u001b[0m \u001b[0mtmax\u001b[0m\u001b[0;34m)\u001b[0m  \u001b[0;31m# this needs many more flags\u001b[0m\u001b[0;34m\u001b[0m\u001b[0m\n\u001b[0m\u001b[1;32m    193\u001b[0m         \u001b[0;31m# Having recomputed the spectrum, we need to set the yrange\u001b[0m\u001b[0;34m\u001b[0m\u001b[0;34m\u001b[0m\u001b[0m\n\u001b[1;32m    194\u001b[0m         \u001b[0;31m# of the color map slider\u001b[0m\u001b[0;34m\u001b[0m\u001b[0;34m\u001b[0m\u001b[0m\n",
      "\u001b[0;32m~/Desktop/Clinic/LANL_2019_Clinic/spectrogram.py\u001b[0m in \u001b[0;36mspectrogram\u001b[0;34m(self, tStart, tEnd, fftSize, floor, normalize, remove_dc)\u001b[0m\n\u001b[1;32m    265\u001b[0m         \u001b[0mdefault\u001b[0m \u001b[0mvalues\u001b[0m \u001b[0;32mor\u001b[0m \u001b[0mdecode\u001b[0m \u001b[0mkwargs\u001b[0m\u001b[0;34m.\u001b[0m \u001b[0mBut\u001b[0m \u001b[0mit\u001b[0m \u001b[0mshould\u001b[0m \u001b[0mbe\u001b[0m \u001b[0ma\u001b[0m \u001b[0mstart\u001b[0m\u001b[0;34m.\u001b[0m\u001b[0;34m\u001b[0m\u001b[0m\n\u001b[1;32m    266\u001b[0m         \"\"\"\n\u001b[0;32m--> 267\u001b[0;31m         \u001b[0mvals\u001b[0m \u001b[0;34m=\u001b[0m \u001b[0mself\u001b[0m\u001b[0;34m.\u001b[0m\u001b[0mvalues\u001b[0m\u001b[0;34m(\u001b[0m\u001b[0mtStart\u001b[0m\u001b[0;34m,\u001b[0m \u001b[0mtEnd\u001b[0m\u001b[0;34m)\u001b[0m\u001b[0;34m\u001b[0m\u001b[0m\n\u001b[0m\u001b[1;32m    268\u001b[0m         \u001b[0;32mif\u001b[0m \u001b[0mnormalize\u001b[0m\u001b[0;34m:\u001b[0m\u001b[0;34m\u001b[0m\u001b[0m\n\u001b[1;32m    269\u001b[0m             vals = self.normalize(\n",
      "\u001b[0;32m~/Desktop/Clinic/LANL_2019_Clinic/spectrogram.py\u001b[0m in \u001b[0;36mvalues\u001b[0;34m(self, tStart, ending)\u001b[0m\n\u001b[1;32m    182\u001b[0m                 \u001b[0mself\u001b[0m\u001b[0;34m.\u001b[0m\u001b[0mpoint_number\u001b[0m\u001b[0;34m(\u001b[0m\u001b[0mending\u001b[0m\u001b[0;34m)\u001b[0m \u001b[0;34m-\u001b[0m \u001b[0mself\u001b[0m\u001b[0;34m.\u001b[0m\u001b[0mpoint_number\u001b[0m\u001b[0;34m(\u001b[0m\u001b[0mtStart\u001b[0m\u001b[0;34m)\u001b[0m\u001b[0;34m\u001b[0m\u001b[0m\n\u001b[1;32m    183\u001b[0m \u001b[0;34m\u001b[0m\u001b[0m\n\u001b[0;32m--> 184\u001b[0;31m         \u001b[0;32mif\u001b[0m \u001b[0mself\u001b[0m\u001b[0;34m.\u001b[0m\u001b[0mvoltage_data\u001b[0m \u001b[0;34m!=\u001b[0m \u001b[0;32mNone\u001b[0m\u001b[0;34m:\u001b[0m\u001b[0;34m\u001b[0m\u001b[0m\n\u001b[0m\u001b[1;32m    185\u001b[0m             \u001b[0;32mreturn\u001b[0m \u001b[0mself\u001b[0m\u001b[0;34m.\u001b[0m\u001b[0mvoltage_data\u001b[0m\u001b[0;34m[\u001b[0m\u001b[0mself\u001b[0m\u001b[0;34m.\u001b[0m\u001b[0mpoint_number\u001b[0m\u001b[0;34m(\u001b[0m\u001b[0mtStart\u001b[0m\u001b[0;34m)\u001b[0m\u001b[0;34m:\u001b[0m\u001b[0mint\u001b[0m\u001b[0;34m(\u001b[0m\u001b[0mself\u001b[0m\u001b[0;34m.\u001b[0m\u001b[0mpoint_number\u001b[0m\u001b[0;34m(\u001b[0m\u001b[0mtStart\u001b[0m\u001b[0;34m)\u001b[0m\u001b[0;34m+\u001b[0m\u001b[0mnSamples\u001b[0m\u001b[0;34m)\u001b[0m\u001b[0;34m]\u001b[0m\u001b[0;34m\u001b[0m\u001b[0m\n\u001b[1;32m    186\u001b[0m         \u001b[0;32melse\u001b[0m\u001b[0;34m:\u001b[0m\u001b[0;34m\u001b[0m\u001b[0m\n",
      "\u001b[0;31mValueError\u001b[0m: The truth value of an array with more than one element is ambiguous. Use a.any() or a.all()"
     ]
    }
   ],
   "source": [
    "sw = SpectrogramWidget('GEN3CH_4_009.dig', t_range=(0, 100))"
   ]
  },
  {
   "cell_type": "code",
   "execution_count": null,
   "metadata": {
    "ExecuteTime": {
     "end_time": "2019-10-29T02:13:25.204975Z",
     "start_time": "2019-10-29T02:13:25.194155Z"
    }
   },
   "outputs": [],
   "source": [
    "fr = sw.peak.frame"
   ]
  },
  {
   "cell_type": "code",
   "execution_count": null,
   "metadata": {
    "ExecuteTime": {
     "end_time": "2019-10-30T17:27:02.105308Z",
     "start_time": "2019-10-30T17:27:02.099279Z"
    }
   },
   "outputs": [],
   "source": [
    "follower = sw.peak"
   ]
  },
  {
   "cell_type": "code",
   "execution_count": null,
   "metadata": {
    "ExecuteTime": {
     "end_time": "2019-10-29T21:24:06.645859Z",
     "start_time": "2019-10-29T21:24:06.639256Z"
    }
   },
   "outputs": [],
   "source": [
    "# slider.max = 120"
   ]
  },
  {
   "cell_type": "code",
   "execution_count": null,
   "metadata": {
    "ExecuteTime": {
     "end_time": "2019-10-29T21:23:34.115467Z",
     "start_time": "2019-10-29T21:23:34.087555Z"
    }
   },
   "outputs": [],
   "source": [
    "import ipywidgets as widgets\n",
    "from IPython.display import display\n",
    "slider = widgets.IntSlider(description=\"Point\", min=0, max=len(follower.results)-1, readout=True,value=0)\n",
    "slider.observe(lambda x: show_n(x['new']), names=\"value\")\n",
    "display(slider)"
   ]
  },
  {
   "cell_type": "code",
   "execution_count": null,
   "metadata": {
    "ExecuteTime": {
     "end_time": "2019-10-30T17:27:08.224069Z",
     "start_time": "2019-10-30T17:27:08.156141Z"
    }
   },
   "outputs": [],
   "source": [
    "fig = plt.figure()\n",
    "ax = fig.add_subplot(1,1,1)\n",
    "ax.set_xlabel(\"$v$ (m/s)\");"
   ]
  },
  {
   "cell_type": "code",
   "execution_count": null,
   "metadata": {
    "ExecuteTime": {
     "end_time": "2019-10-30T17:27:08.850218Z",
     "start_time": "2019-10-30T17:27:08.815369Z"
    }
   },
   "outputs": [],
   "source": [
    "from scipy.stats import moment\n",
    "def show_n(n):\n",
    "    res = follower.estimate_width(n)\n",
    "    pk = moment(res['power'], 1)\n",
    "    var = moment(res['power'], 2)\n",
    "    print(f\"pk = {pk:2f} and var = {var:2f}\")\n",
    "    ax.lines = []\n",
    "    n_low, n_high = res['indices']\n",
    "    v_indices = np.arange(n_low, n_high, 1)\n",
    "    velocities = sw.spectrogram.velocity[v_indices]\n",
    "    ax.plot(velocities, res['power'], 'ro', alpha=0.4)\n",
    "    c_velocities = np.linspace(velocities[0], velocities[-1], 10 * len(velocities))\n",
    "    curve = np.exp(-((c_velocities - res['center']) / res['width'])**2) * res['amplitude']\n",
    "    ax.plot(c_velocities, curve, 'k-', alpha=0.5)\n",
    "    ax.set_ylim(0, 1.1*res['power'].max())\n",
    "    ax.set_xlim(velocities[0], velocities[-1])"
   ]
  },
  {
   "cell_type": "code",
   "execution_count": null,
   "metadata": {
    "ExecuteTime": {
     "end_time": "2019-10-30T17:27:10.311486Z",
     "start_time": "2019-10-30T17:27:10.290204Z"
    }
   },
   "outputs": [],
   "source": [
    "show_n(32)"
   ]
  },
  {
   "cell_type": "code",
   "execution_count": null,
   "metadata": {
    "ExecuteTime": {
     "end_time": "2019-10-30T17:29:06.653895Z",
     "start_time": "2019-10-30T17:29:06.612763Z"
    }
   },
   "outputs": [],
   "source": [
    "show_n(55)"
   ]
  },
  {
   "cell_type": "code",
   "execution_count": null,
   "metadata": {
    "ExecuteTime": {
     "end_time": "2019-10-30T17:31:37.206616Z",
     "start_time": "2019-10-30T17:31:37.172506Z"
    }
   },
   "outputs": [],
   "source": [
    "show_n(100)"
   ]
  },
  {
   "cell_type": "code",
   "execution_count": null,
   "metadata": {
    "ExecuteTime": {
     "end_time": "2019-10-29T22:29:18.744586Z",
     "start_time": "2019-10-29T22:29:18.738837Z"
    }
   },
   "outputs": [],
   "source": [
    "xv, yv = ax.lines[0]._x, ax.lines[0]._y"
   ]
  },
  {
   "cell_type": "code",
   "execution_count": null,
   "metadata": {
    "ExecuteTime": {
     "end_time": "2019-10-29T02:13:32.375326Z",
     "start_time": "2019-10-29T02:13:32.260721Z"
    }
   },
   "outputs": [],
   "source": [
    "fr[['velocities']].plot()"
   ]
  },
  {
   "cell_type": "code",
   "execution_count": null,
   "metadata": {
    "ExecuteTime": {
     "end_time": "2019-10-25T20:01:36.844739Z",
     "start_time": "2019-10-25T20:00:20.603692Z"
    }
   },
   "outputs": [],
   "source": [
    "SpectrogramWidget('GEN3CH_4_009.dig');"
   ]
  },
  {
   "cell_type": "code",
   "execution_count": null,
   "metadata": {
    "ExecuteTime": {
     "end_time": "2019-10-13T06:23:44.950573Z",
     "start_time": "2019-10-13T06:23:42.039392Z"
    }
   },
   "outputs": [],
   "source": [
    "df = DigFile('GEN3CH_4_009.dig')\n",
    "df.extract('sample.dig', 0.0, 50.0e-6)"
   ]
  },
  {
   "cell_type": "code",
   "execution_count": null,
   "metadata": {
    "ExecuteTime": {
     "end_time": "2019-10-15T05:11:46.608895Z",
     "start_time": "2019-10-15T05:11:42.577095Z"
    }
   },
   "outputs": [],
   "source": [
    "SpectrogramWidget('sample.dig');"
   ]
  },
  {
   "cell_type": "code",
   "execution_count": null,
   "metadata": {
    "ExecuteTime": {
     "end_time": "2019-10-13T22:40:14.353115Z",
     "start_time": "2019-10-13T22:40:14.348803Z"
    }
   },
   "outputs": [],
   "source": [
    "tv = np.arange(0, 2*365.25, 0.1)\n",
    "theta = 62.0 + 20.0 * np.sin(2*np.pi*tv - 3*np.pi/4.0) + 15 * np.sin(2*np.pi*tv / 365.25 + 3 * np.pi/2)"
   ]
  },
  {
   "cell_type": "code",
   "execution_count": null,
   "metadata": {
    "ExecuteTime": {
     "end_time": "2019-10-13T22:32:00.493497Z",
     "start_time": "2019-10-13T22:32:00.466298Z"
    }
   },
   "outputs": [],
   "source": [
    "figgy = plt.figure()\n",
    "ax = figgy.add_subplot(1,1,1)"
   ]
  },
  {
   "cell_type": "code",
   "execution_count": null,
   "metadata": {
    "ExecuteTime": {
     "end_time": "2019-10-13T22:41:31.328566Z",
     "start_time": "2019-10-13T22:41:31.322805Z"
    }
   },
   "outputs": [],
   "source": [
    "ax.plot(tv, theta);"
   ]
  },
  {
   "cell_type": "code",
   "execution_count": null,
   "metadata": {
    "ExecuteTime": {
     "end_time": "2019-10-13T22:40:58.360018Z",
     "start_time": "2019-10-13T22:40:58.357151Z"
    }
   },
   "outputs": [],
   "source": [
    "ax.lines[0].set_xdata(theta)"
   ]
  },
  {
   "cell_type": "code",
   "execution_count": null,
   "metadata": {
    "ExecuteTime": {
     "end_time": "2019-10-13T22:42:11.600735Z",
     "start_time": "2019-10-13T22:42:11.596126Z"
    }
   },
   "outputs": [],
   "source": [
    "ax.set_xlim(0,365)"
   ]
  },
  {
   "cell_type": "code",
   "execution_count": null,
   "metadata": {
    "ExecuteTime": {
     "end_time": "2019-10-13T22:35:53.302995Z",
     "start_time": "2019-10-13T22:35:53.300548Z"
    }
   },
   "outputs": [],
   "source": [
    "ax.lines=[]"
   ]
  },
  {
   "cell_type": "code",
   "execution_count": null,
   "metadata": {
    "ExecuteTime": {
     "end_time": "2019-10-13T22:47:07.210257Z",
     "start_time": "2019-10-13T22:47:07.206700Z"
    }
   },
   "outputs": [],
   "source": [
    "4000. / 3600. / 24."
   ]
  },
  {
   "cell_type": "code",
   "execution_count": null,
   "metadata": {
    "ExecuteTime": {
     "end_time": "2019-10-29T02:25:08.533806Z",
     "start_time": "2019-10-29T02:25:07.768860Z"
    }
   },
   "outputs": [],
   "source": [
    "sw2 = SpectrogramWidget('sample.dig', t_range=(0, 100))"
   ]
  },
  {
   "cell_type": "code",
   "execution_count": null,
   "metadata": {
    "ExecuteTime": {
     "end_time": "2019-10-29T22:29:37.812825Z",
     "start_time": "2019-10-29T22:29:37.802282Z"
    }
   },
   "outputs": [],
   "source": [
    "yv"
   ]
  },
  {
   "cell_type": "code",
   "execution_count": null,
   "metadata": {
    "ExecuteTime": {
     "end_time": "2019-10-29T22:31:12.429674Z",
     "start_time": "2019-10-29T22:31:12.421190Z"
    }
   },
   "outputs": [],
   "source": [
    "zero = yv.sum()\n",
    "one = np.sum(xv * yv)\n",
    "two = np.sum(xv * xv * yv)\n",
    "mean = one / zero\n",
    "var = two / zero - mean**2\n",
    "stdev = np.sqrt(var)"
   ]
  },
  {
   "cell_type": "code",
   "execution_count": null,
   "metadata": {
    "ExecuteTime": {
     "end_time": "2019-10-29T22:31:17.381986Z",
     "start_time": "2019-10-29T22:31:17.372406Z"
    }
   },
   "outputs": [],
   "source": [
    "mean"
   ]
  },
  {
   "cell_type": "code",
   "execution_count": null,
   "metadata": {
    "ExecuteTime": {
     "end_time": "2019-10-29T22:31:33.180008Z",
     "start_time": "2019-10-29T22:31:33.169342Z"
    }
   },
   "outputs": [],
   "source": [
    "stdev"
   ]
  },
  {
   "cell_type": "code",
   "execution_count": null,
   "metadata": {},
   "outputs": [],
   "source": []
  }
 ],
 "metadata": {
  "kernelspec": {
   "display_name": "Python 3",
   "language": "python",
   "name": "python3"
  },
  "language_info": {
   "codemirror_mode": {
    "name": "ipython",
    "version": 3
   },
   "file_extension": ".py",
   "mimetype": "text/x-python",
   "name": "python",
   "nbconvert_exporter": "python",
   "pygments_lexer": "ipython3",
   "version": "3.6.4"
  },
  "latex_envs": {
   "LaTeX_envs_menu_present": true,
   "autoclose": false,
   "autocomplete": true,
   "bibliofile": "biblio.bib",
   "cite_by": "apalike",
   "current_citInitial": 1,
   "eqLabelWithNumbers": true,
   "eqNumInitial": 1,
   "hotkeys": {
    "equation": "Ctrl-E",
    "itemize": "Ctrl-I"
   },
   "labels_anchors": false,
   "latex_user_defs": false,
   "report_style_numbering": false,
   "user_envs_cfg": false
  },
  "toc": {
   "base_numbering": 1,
   "nav_menu": {},
   "number_sections": true,
   "sideBar": true,
   "skip_h1_title": false,
   "title_cell": "Table of Contents",
   "title_sidebar": "Contents",
   "toc_cell": false,
   "toc_position": {},
   "toc_section_display": true,
   "toc_window_display": false
  }
 },
 "nbformat": 4,
 "nbformat_minor": 2
}
