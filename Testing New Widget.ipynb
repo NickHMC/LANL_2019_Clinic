{
 "cells": [
  {
   "cell_type": "code",
   "execution_count": 1,
   "metadata": {
    "ExecuteTime": {
     "end_time": "2019-10-30T17:26:46.023316Z",
     "start_time": "2019-10-30T17:26:45.586057Z"
    }
   },
   "outputs": [],
   "source": [
    "%matplotlib widget\n",
    "import matplotlib.pyplot as plt\n",
    "import numpy as np\n",
    "from digfile import DigFile\n",
    "from spectrogram import Spectrogram\n",
    "from spectrum import Spectrum\n",
    "from spectrogram_widget import SpectrogramWidget\n",
    "import os"
   ]
  },
  {
   "cell_type": "code",
   "execution_count": 2,
   "metadata": {
    "ExecuteTime": {
     "end_time": "2019-10-30T17:26:46.682270Z",
     "start_time": "2019-10-30T17:26:46.024648Z"
    }
   },
   "outputs": [],
   "source": [
    "import wingdbstub"
   ]
  },
  {
   "cell_type": "code",
   "execution_count": 3,
   "metadata": {
    "ExecuteTime": {
     "end_time": "2019-10-30T17:26:48.900844Z",
     "start_time": "2019-10-30T17:26:48.897472Z"
    }
   },
   "outputs": [],
   "source": [
    "wingdbstub.Ensure()"
   ]
  },
  {
   "cell_type": "code",
   "execution_count": 4,
   "metadata": {
    "ExecuteTime": {
     "end_time": "2019-10-30T17:26:49.042147Z",
     "start_time": "2019-10-30T17:26:49.037948Z"
    }
   },
   "outputs": [],
   "source": [
    "os.chdir('../dig')"
   ]
  },
  {
   "cell_type": "code",
   "execution_count": 5,
   "metadata": {
    "ExecuteTime": {
     "end_time": "2019-10-30T17:26:50.372014Z",
     "start_time": "2019-10-30T17:26:49.724442Z"
    }
   },
   "outputs": [
    {
     "data": {
      "application/vnd.jupyter.widget-view+json": {
       "model_id": "4be9fff9f94f4e1ea67256f26808da13",
       "version_major": 2,
       "version_minor": 0
      },
      "text/plain": [
       "Canvas(toolbar=Toolbar(toolitems=[('Home', 'Reset original view', 'home', 'home'), ('Back', 'Back to previous …"
      ]
     },
     "metadata": {},
     "output_type": "display_data"
    },
    {
     "data": {
      "application/vnd.jupyter.widget-view+json": {
       "model_id": "887ca232587745fbaa8e31ad6938d3a6",
       "version_major": 2,
       "version_minor": 0
      },
      "text/plain": [
       "HBox(children=(VBox(children=(ValueSlider(value=(0.0, 49.99999999999999), continuous_update=False, description…"
      ]
     },
     "metadata": {},
     "output_type": "display_data"
    },
    {
     "name": "stdout",
     "output_type": "stream",
     "text": [
      "Create a figure and axes, then call self.gauss.show_fit(axes)\n"
     ]
    }
   ],
   "source": [
    "sw = SpectrogramWidget('sample.dig', t_range=(0, 100))"
   ]
  },
  {
   "cell_type": "code",
   "execution_count": null,
   "metadata": {
    "ExecuteTime": {
     "end_time": "2019-10-29T02:13:25.204975Z",
     "start_time": "2019-10-29T02:13:25.194155Z"
    }
   },
   "outputs": [],
   "source": [
    "fr = sw.peak.frame"
   ]
  },
  {
   "cell_type": "code",
   "execution_count": 6,
   "metadata": {
    "ExecuteTime": {
     "end_time": "2019-10-30T17:27:02.105308Z",
     "start_time": "2019-10-30T17:27:02.099279Z"
    }
   },
   "outputs": [],
   "source": [
    "follower = sw.peak"
   ]
  },
  {
   "cell_type": "code",
   "execution_count": null,
   "metadata": {
    "ExecuteTime": {
     "end_time": "2019-10-29T21:24:06.645859Z",
     "start_time": "2019-10-29T21:24:06.639256Z"
    }
   },
   "outputs": [],
   "source": [
    "slider.max = 120"
   ]
  },
  {
   "cell_type": "code",
   "execution_count": null,
   "metadata": {
    "ExecuteTime": {
     "end_time": "2019-10-29T21:23:34.115467Z",
     "start_time": "2019-10-29T21:23:34.087555Z"
    }
   },
   "outputs": [],
   "source": [
    "import ipywidgets as widgets\n",
    "from IPython.display import display\n",
    "slider = widgets.IntSlider(description=\"Point\", min=0, max=len(follower.results)-1, readout=True,value=0)\n",
    "slider.observe(lambda x: show_n(x['new']), names=\"value\")\n",
    "display(slider)"
   ]
  },
  {
   "cell_type": "code",
   "execution_count": 7,
   "metadata": {
    "ExecuteTime": {
     "end_time": "2019-10-30T17:27:08.224069Z",
     "start_time": "2019-10-30T17:27:08.156141Z"
    }
   },
   "outputs": [
    {
     "data": {
      "application/vnd.jupyter.widget-view+json": {
       "model_id": "2c18d23ce93d4372ba91aeefe37e28f7",
       "version_major": 2,
       "version_minor": 0
      },
      "text/plain": [
       "Canvas(toolbar=Toolbar(toolitems=[('Home', 'Reset original view', 'home', 'home'), ('Back', 'Back to previous …"
      ]
     },
     "metadata": {},
     "output_type": "display_data"
    },
    {
     "data": {
      "text/plain": [
       "Text(0.5, 0, '$v$ (m/s)')"
      ]
     },
     "execution_count": 7,
     "metadata": {},
     "output_type": "execute_result"
    }
   ],
   "source": [
    "fig = plt.figure()\n",
    "ax = fig.add_subplot(1,1,1)\n",
    "ax.set_xlabel(\"$v$ (m/s)\");"
   ]
  },
  {
   "cell_type": "code",
   "execution_count": 8,
   "metadata": {
    "ExecuteTime": {
     "end_time": "2019-10-30T17:27:08.850218Z",
     "start_time": "2019-10-30T17:27:08.815369Z"
    }
   },
   "outputs": [],
   "source": [
    "from scipy.stats import moment\n",
    "def show_n(n):\n",
    "    res = follower.estimate_width(n)\n",
    "    pk = moment(res['power'], 1)\n",
    "    var = moment(res['power'], 2)\n",
    "    print(f\"pk = {pk:2f} and var = {var:2f}\")\n",
    "    ax.lines = []\n",
    "    n_low, n_high = res['indices']\n",
    "    v_indices = np.arange(n_low, n_high, 1)\n",
    "    velocities = sw.spectrogram.velocity[v_indices]\n",
    "    ax.plot(velocities, res['power'], 'ro', alpha=0.4)\n",
    "    c_velocities = np.linspace(velocities[0], velocities[-1], 10 * len(velocities))\n",
    "    curve = np.exp(-((c_velocities - res['center']) / res['width'])**2) * res['amplitude']\n",
    "    ax.plot(c_velocities, curve, 'k-', alpha=0.5)\n",
    "    ax.set_ylim(0, 1.1*res['power'].max())\n",
    "    ax.set_xlim(velocities[0], velocities[-1])"
   ]
  },
  {
   "cell_type": "code",
   "execution_count": 9,
   "metadata": {
    "ExecuteTime": {
     "end_time": "2019-10-30T17:27:10.311486Z",
     "start_time": "2019-10-30T17:27:10.290204Z"
    }
   },
   "outputs": [
    {
     "name": "stdout",
     "output_type": "stream",
     "text": [
      "[23.494426042315308, 15.081919148637871, 7.742619518410722, 7.060430546748018, 4.985096420910391]\n",
      "pk = 0.000000 and var = 220.999703\n"
     ]
    }
   ],
   "source": [
    "show_n(32)"
   ]
  },
  {
   "cell_type": "code",
   "execution_count": 12,
   "metadata": {
    "ExecuteTime": {
     "end_time": "2019-10-30T17:29:06.653895Z",
     "start_time": "2019-10-30T17:29:06.612763Z"
    }
   },
   "outputs": [
    {
     "name": "stdout",
     "output_type": "stream",
     "text": [
      "[4.137530283037372, 4.137530283037372, 4.137530283037372, 4.137530283037372, 3.3097672717620346]\n",
      "pk = 0.000000 and var = 9589.580051\n"
     ]
    }
   ],
   "source": [
    "show_n(55)"
   ]
  },
  {
   "cell_type": "code",
   "execution_count": 14,
   "metadata": {
    "ExecuteTime": {
     "end_time": "2019-10-30T17:31:37.206616Z",
     "start_time": "2019-10-30T17:31:37.172506Z"
    }
   },
   "outputs": [
    {
     "name": "stdout",
     "output_type": "stream",
     "text": [
      "[31.51048628168521, 21.31635231359368, 13.217989952701258, 9.318153804745501, 6.463636365666054]\n",
      "pk = 0.000000 and var = 59.561817\n"
     ]
    }
   ],
   "source": [
    "show_n(100)"
   ]
  },
  {
   "cell_type": "code",
   "execution_count": null,
   "metadata": {
    "ExecuteTime": {
     "end_time": "2019-10-29T22:29:18.744586Z",
     "start_time": "2019-10-29T22:29:18.738837Z"
    }
   },
   "outputs": [],
   "source": [
    "xv, yv = ax.lines[0]._x, ax.lines[0]._y"
   ]
  },
  {
   "cell_type": "code",
   "execution_count": null,
   "metadata": {
    "ExecuteTime": {
     "end_time": "2019-10-29T02:13:32.375326Z",
     "start_time": "2019-10-29T02:13:32.260721Z"
    }
   },
   "outputs": [],
   "source": [
    "fr[['velocities']].plot()"
   ]
  },
  {
   "cell_type": "code",
   "execution_count": null,
   "metadata": {
    "ExecuteTime": {
     "end_time": "2019-10-25T20:01:36.844739Z",
     "start_time": "2019-10-25T20:00:20.603692Z"
    }
   },
   "outputs": [],
   "source": [
    "SpectrogramWidget('GEN3CH_4_009.dig');"
   ]
  },
  {
   "cell_type": "code",
   "execution_count": null,
   "metadata": {
    "ExecuteTime": {
     "end_time": "2019-10-13T06:23:44.950573Z",
     "start_time": "2019-10-13T06:23:42.039392Z"
    }
   },
   "outputs": [],
   "source": [
    "df = DigFile('GEN3CH_4_009.dig')\n",
    "df.extract('sample.dig', 0.0, 50.0e-6)"
   ]
  },
  {
   "cell_type": "code",
   "execution_count": null,
   "metadata": {
    "ExecuteTime": {
     "end_time": "2019-10-15T05:11:46.608895Z",
     "start_time": "2019-10-15T05:11:42.577095Z"
    }
   },
   "outputs": [],
   "source": [
    "SpectrogramWidget('sample.dig');"
   ]
  },
  {
   "cell_type": "code",
   "execution_count": null,
   "metadata": {
    "ExecuteTime": {
     "end_time": "2019-10-13T22:40:14.353115Z",
     "start_time": "2019-10-13T22:40:14.348803Z"
    }
   },
   "outputs": [],
   "source": [
    "tv = np.arange(0, 2*365.25, 0.1)\n",
    "theta = 62.0 + 20.0 * np.sin(2*np.pi*tv - 3*np.pi/4.0) + 15 * np.sin(2*np.pi*tv / 365.25 + 3 * np.pi/2)"
   ]
  },
  {
   "cell_type": "code",
   "execution_count": null,
   "metadata": {
    "ExecuteTime": {
     "end_time": "2019-10-13T22:32:00.493497Z",
     "start_time": "2019-10-13T22:32:00.466298Z"
    }
   },
   "outputs": [],
   "source": [
    "figgy = plt.figure()\n",
    "ax = figgy.add_subplot(1,1,1)"
   ]
  },
  {
   "cell_type": "code",
   "execution_count": null,
   "metadata": {
    "ExecuteTime": {
     "end_time": "2019-10-13T22:41:31.328566Z",
     "start_time": "2019-10-13T22:41:31.322805Z"
    }
   },
   "outputs": [],
   "source": [
    "ax.plot(tv, theta);"
   ]
  },
  {
   "cell_type": "code",
   "execution_count": null,
   "metadata": {
    "ExecuteTime": {
     "end_time": "2019-10-13T22:40:58.360018Z",
     "start_time": "2019-10-13T22:40:58.357151Z"
    }
   },
   "outputs": [],
   "source": [
    "ax.lines[0].set_xdata(theta)"
   ]
  },
  {
   "cell_type": "code",
   "execution_count": null,
   "metadata": {
    "ExecuteTime": {
     "end_time": "2019-10-13T22:42:11.600735Z",
     "start_time": "2019-10-13T22:42:11.596126Z"
    }
   },
   "outputs": [],
   "source": [
    "ax.set_xlim(0,365)"
   ]
  },
  {
   "cell_type": "code",
   "execution_count": null,
   "metadata": {
    "ExecuteTime": {
     "end_time": "2019-10-13T22:35:53.302995Z",
     "start_time": "2019-10-13T22:35:53.300548Z"
    }
   },
   "outputs": [],
   "source": [
    "ax.lines=[]"
   ]
  },
  {
   "cell_type": "code",
   "execution_count": null,
   "metadata": {
    "ExecuteTime": {
     "end_time": "2019-10-13T22:47:07.210257Z",
     "start_time": "2019-10-13T22:47:07.206700Z"
    }
   },
   "outputs": [],
   "source": [
    "4000. / 3600. / 24."
   ]
  },
  {
   "cell_type": "code",
   "execution_count": null,
   "metadata": {
    "ExecuteTime": {
     "end_time": "2019-10-29T02:25:08.533806Z",
     "start_time": "2019-10-29T02:25:07.768860Z"
    }
   },
   "outputs": [],
   "source": [
    "sw2 = SpectrogramWidget('sample.dig', t_range=(0, 100))"
   ]
  },
  {
   "cell_type": "code",
   "execution_count": null,
   "metadata": {
    "ExecuteTime": {
     "end_time": "2019-10-29T22:29:37.812825Z",
     "start_time": "2019-10-29T22:29:37.802282Z"
    }
   },
   "outputs": [],
   "source": [
    "yv"
   ]
  },
  {
   "cell_type": "code",
   "execution_count": null,
   "metadata": {
    "ExecuteTime": {
     "end_time": "2019-10-29T22:31:12.429674Z",
     "start_time": "2019-10-29T22:31:12.421190Z"
    }
   },
   "outputs": [],
   "source": [
    "zero = yv.sum()\n",
    "one = np.sum(xv * yv)\n",
    "two = np.sum(xv * xv * yv)\n",
    "mean = one / zero\n",
    "var = two / zero - mean**2\n",
    "stdev = np.sqrt(var)"
   ]
  },
  {
   "cell_type": "code",
   "execution_count": null,
   "metadata": {
    "ExecuteTime": {
     "end_time": "2019-10-29T22:31:17.381986Z",
     "start_time": "2019-10-29T22:31:17.372406Z"
    }
   },
   "outputs": [],
   "source": [
    "mean"
   ]
  },
  {
   "cell_type": "code",
   "execution_count": null,
   "metadata": {
    "ExecuteTime": {
     "end_time": "2019-10-29T22:31:33.180008Z",
     "start_time": "2019-10-29T22:31:33.169342Z"
    }
   },
   "outputs": [],
   "source": [
    "stdev"
   ]
  },
  {
   "cell_type": "code",
   "execution_count": null,
   "metadata": {},
   "outputs": [],
   "source": []
  }
 ],
 "metadata": {
  "kernelspec": {
   "display_name": "Python 3",
   "language": "python",
   "name": "python3"
  },
  "language_info": {
   "codemirror_mode": {
    "name": "ipython",
    "version": 3
   },
   "file_extension": ".py",
   "mimetype": "text/x-python",
   "name": "python",
   "nbconvert_exporter": "python",
   "pygments_lexer": "ipython3",
   "version": "3.6.8"
  },
  "latex_envs": {
   "LaTeX_envs_menu_present": true,
   "autoclose": false,
   "autocomplete": true,
   "bibliofile": "biblio.bib",
   "cite_by": "apalike",
   "current_citInitial": 1,
   "eqLabelWithNumbers": true,
   "eqNumInitial": 1,
   "hotkeys": {
    "equation": "Ctrl-E",
    "itemize": "Ctrl-I"
   },
   "labels_anchors": false,
   "latex_user_defs": false,
   "report_style_numbering": false,
   "user_envs_cfg": false
  },
  "toc": {
   "base_numbering": 1,
   "nav_menu": {},
   "number_sections": true,
   "sideBar": true,
   "skip_h1_title": false,
   "title_cell": "Table of Contents",
   "title_sidebar": "Contents",
   "toc_cell": false,
   "toc_position": {},
   "toc_section_display": true,
   "toc_window_display": false
  }
 },
 "nbformat": 4,
 "nbformat_minor": 2
}
