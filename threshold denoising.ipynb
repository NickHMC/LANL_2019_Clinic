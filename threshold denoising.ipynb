{
 "cells": [
  {
   "cell_type": "code",
   "execution_count": 1,
   "metadata": {},
   "outputs": [],
   "source": [
    "from spectrogram import Spectrogram\n",
    "\n",
    "import matplotlib.pyplot as plt\n",
    "import numpy as np\n",
    "\n",
    "\n",
    "from ipywidgets import interact, interactive, fixed, interact_manual\n",
    "import ipywidgets as widgets\n"
   ]
  },
  {
   "cell_type": "code",
   "execution_count": 2,
   "metadata": {},
   "outputs": [],
   "source": [
    "spec = Spectrogram(\"./dig/GEN3CH_4_009.dig\")"
   ]
  },
  {
   "cell_type": "code",
   "execution_count": 8,
   "metadata": {},
   "outputs": [],
   "source": [
    "times, velocities, intensities = spec.slice((spec.time[1500],spec.time[2000]),(1000,5000))"
   ]
  },
  {
   "cell_type": "code",
   "execution_count": null,
   "metadata": {},
   "outputs": [],
   "source": [
    "plt.pcolormesh(times*1e6,velocities,intensities)\n",
    "plt.colorbar()"
   ]
  },
  {
   "cell_type": "code",
   "execution_count": 14,
   "metadata": {},
   "outputs": [],
   "source": [
    "def thresholdDenoise(threshold,ins):\n",
    "    newIntensities = ins.copy()\n",
    "    with np.nditer(newIntensities, op_flags=['readwrite']) as it:\n",
    "        for element in it:\n",
    "            if element < threshold:\n",
    "                element[...] = -70\n",
    "    plt.pcolormesh(times*1e6,velocities,newIntensities)\n",
    "    plt.colorbar()"
   ]
  },
  {
   "cell_type": "code",
   "execution_count": null,
   "metadata": {},
   "outputs": [],
   "source": [
    "denoise(0,intensities)"
   ]
  },
  {
   "cell_type": "code",
   "execution_count": 16,
   "metadata": {},
   "outputs": [],
   "source": [
    "def makeDenoised(item,threshold):\n",
    "    if item < threshold:\n",
    "        return -70\n",
    "    else:\n",
    "        return item\n",
    "\n",
    "vfunc = np.vectorize(makeDenoised)\n",
    "\n",
    "\n",
    "def thresholdDenoiseVectorized(threshold,ins):\n",
    "#     newIntensities = ins.copy()\n",
    "#     with np.nditer(newIntensities, op_flags=['readwrite']) as it:\n",
    "#         for element in it:\n",
    "#             if element < threshold:\n",
    "#                 element[...] = -70\n",
    "    newIntensities = vfunc(ins,threshold)\n",
    "    plt.pcolormesh(times*1e6,velocities,newIntensities)\n",
    "    plt.colorbar()"
   ]
  },
  {
   "cell_type": "code",
   "execution_count": 17,
   "metadata": {
    "scrolled": true
   },
   "outputs": [
    {
     "data": {
      "application/vnd.jupyter.widget-view+json": {
       "model_id": "44c3c4bbb6554fd3a693cfdcda968e3a",
       "version_major": 2,
       "version_minor": 0
      },
      "text/plain": [
       "interactive(children=(IntSlider(value=0, description='threshold', max=75, min=-75, step=5), Button(description…"
      ]
     },
     "metadata": {},
     "output_type": "display_data"
    }
   ],
   "source": [
    "interact_manual(thresholdDenoise,threshold=widgets.IntSlider(min=-75, max=75, step=5),ins=(fixed(intensities)));"
   ]
  },
  {
   "cell_type": "code",
   "execution_count": null,
   "metadata": {},
   "outputs": [],
   "source": [
    "def thresholdDecayDenoise(threshold,ins):\n",
    "    newIntensities = ins.copy()\n",
    "    with np.nditer(newIntensities, op_flags=['readwrite']) as it:\n",
    "        for element in it:\n",
    "            if element < threshold:\n",
    "                element[...] \n",
    "    plt.pcolormesh(times*1e6,velocities,newIntensities)\n",
    "    plt.colorbar()"
   ]
  }
 ],
 "metadata": {
  "kernelspec": {
   "display_name": "Python 3",
   "language": "python",
   "name": "python3"
  },
  "language_info": {
   "codemirror_mode": {
    "name": "ipython",
    "version": 3
   },
   "file_extension": ".py",
   "mimetype": "text/x-python",
   "name": "python",
   "nbconvert_exporter": "python",
   "pygments_lexer": "ipython3",
   "version": "3.6.8"
  }
 },
 "nbformat": 4,
 "nbformat_minor": 4
}
