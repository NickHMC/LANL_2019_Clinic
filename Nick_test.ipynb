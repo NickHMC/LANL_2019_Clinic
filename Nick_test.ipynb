{
 "cells": [
  {
   "cell_type": "code",
   "execution_count": 1,
   "metadata": {},
   "outputs": [],
   "source": [
    "%matplotlib widget\n",
    "%load_ext autoreload\n",
    "%autoreload 2\n",
    "from spectrogram_widget import SpectrogramWidget"
   ]
  },
  {
   "cell_type": "code",
   "execution_count": 2,
   "metadata": {},
   "outputs": [],
   "source": [
    "filename = \"../dig/new/WHITE_CH4_SHOT.dig\""
   ]
  },
  {
   "cell_type": "code",
   "execution_count": 3,
   "metadata": {},
   "outputs": [
    {
     "data": {
      "application/vnd.jupyter.widget-view+json": {
       "model_id": "4da9491b89e54a78983f6fa90cb52ea2",
       "version_major": 2,
       "version_minor": 0
      },
      "text/plain": [
       "Canvas(toolbar=Toolbar(toolitems=[('Home', 'Reset original view', 'home', 'home'), ('Back', 'Back to previous …"
      ]
     },
     "metadata": {},
     "output_type": "display_data"
    },
    {
     "data": {
      "application/vnd.jupyter.widget-view+json": {
       "model_id": "594a91da0a0546a9a54ef75c5080642a",
       "version_major": 2,
       "version_minor": 0
      },
      "text/plain": [
       "HBox(children=(VBox(children=(Dropdown(description='Color Map', options=('3w_gby', '7-section-muted', 'gr-inse…"
      ]
     },
     "metadata": {},
     "output_type": "display_data"
    }
   ],
   "source": [
    "sw = SpectrogramWidget(filename)"
   ]
  },
  {
   "cell_type": "code",
   "execution_count": 4,
   "metadata": {},
   "outputs": [],
   "source": [
    "spec = sw.spectrogram"
   ]
  },
  {
   "cell_type": "code",
   "execution_count": 5,
   "metadata": {},
   "outputs": [],
   "source": [
    "from imageSegmentation import *"
   ]
  },
  {
   "cell_type": "code",
   "execution_count": 6,
   "metadata": {},
   "outputs": [],
   "source": [
    "tEnd = 3.8e-5\n",
    "velTop = 12000"
   ]
  },
  {
   "cell_type": "code",
   "execution_count": 7,
   "metadata": {},
   "outputs": [],
   "source": [
    "spec.time, spec.velocity, spec.intensity = spec.slice((0,tEnd), (0, velTop))"
   ]
  },
  {
   "cell_type": "code",
   "execution_count": null,
   "metadata": {},
   "outputs": [
    {
     "name": "stdout",
     "output_type": "stream",
     "text": [
      "The graph will now be set up.\n",
      "I have setup 10000 nodes out of 786780 nodes.\n",
      "I have setup 20000 nodes out of 786780 nodes.\n",
      "I have setup 30000 nodes out of 786780 nodes.\n",
      "I have setup 40000 nodes out of 786780 nodes.\n",
      "I have setup 50000 nodes out of 786780 nodes.\n",
      "I have setup 60000 nodes out of 786780 nodes.\n",
      "I have setup 70000 nodes out of 786780 nodes.\n",
      "I have setup 80000 nodes out of 786780 nodes.\n",
      "I have setup 90000 nodes out of 786780 nodes.\n",
      "I have setup 100000 nodes out of 786780 nodes.\n",
      "I have setup 110000 nodes out of 786780 nodes.\n",
      "I have setup 120000 nodes out of 786780 nodes.\n",
      "I have setup 130000 nodes out of 786780 nodes.\n",
      "I have setup 140000 nodes out of 786780 nodes.\n",
      "I have setup 150000 nodes out of 786780 nodes.\n",
      "I have setup 160000 nodes out of 786780 nodes.\n",
      "I have setup 170000 nodes out of 786780 nodes.\n",
      "I have setup 180000 nodes out of 786780 nodes.\n",
      "I have setup 190000 nodes out of 786780 nodes.\n",
      "I have setup 200000 nodes out of 786780 nodes.\n",
      "I have setup 210000 nodes out of 786780 nodes.\n",
      "I have setup 220000 nodes out of 786780 nodes.\n",
      "I have setup 230000 nodes out of 786780 nodes.\n",
      "I have setup 240000 nodes out of 786780 nodes.\n",
      "I have setup 250000 nodes out of 786780 nodes.\n",
      "I have setup 260000 nodes out of 786780 nodes.\n",
      "I have setup 270000 nodes out of 786780 nodes.\n",
      "I have setup 280000 nodes out of 786780 nodes.\n",
      "I have setup 290000 nodes out of 786780 nodes.\n",
      "I have setup 300000 nodes out of 786780 nodes.\n",
      "I have setup 310000 nodes out of 786780 nodes.\n",
      "I have setup 320000 nodes out of 786780 nodes.\n",
      "I have setup 330000 nodes out of 786780 nodes.\n",
      "I have setup 340000 nodes out of 786780 nodes.\n",
      "I have setup 350000 nodes out of 786780 nodes.\n",
      "I have setup 360000 nodes out of 786780 nodes.\n",
      "I have setup 370000 nodes out of 786780 nodes.\n",
      "I have setup 380000 nodes out of 786780 nodes.\n",
      "I have setup 390000 nodes out of 786780 nodes.\n",
      "I have setup 400000 nodes out of 786780 nodes.\n",
      "I have setup 410000 nodes out of 786780 nodes.\n",
      "I have setup 420000 nodes out of 786780 nodes.\n",
      "I have setup 430000 nodes out of 786780 nodes.\n",
      "I have setup 440000 nodes out of 786780 nodes.\n",
      "I have setup 450000 nodes out of 786780 nodes.\n",
      "I have setup 460000 nodes out of 786780 nodes.\n",
      "I have setup 470000 nodes out of 786780 nodes.\n",
      "I have setup 480000 nodes out of 786780 nodes.\n",
      "I have setup 490000 nodes out of 786780 nodes.\n",
      "I have setup 500000 nodes out of 786780 nodes.\n",
      "I have setup 510000 nodes out of 786780 nodes.\n",
      "I have setup 520000 nodes out of 786780 nodes.\n",
      "I have setup 530000 nodes out of 786780 nodes.\n",
      "I have setup 540000 nodes out of 786780 nodes.\n",
      "I have setup 550000 nodes out of 786780 nodes.\n",
      "I have setup 560000 nodes out of 786780 nodes.\n",
      "I have setup 570000 nodes out of 786780 nodes.\n",
      "I have setup 580000 nodes out of 786780 nodes.\n",
      "I have setup 590000 nodes out of 786780 nodes.\n",
      "I have setup 600000 nodes out of 786780 nodes.\n",
      "I have setup 610000 nodes out of 786780 nodes.\n",
      "I have setup 620000 nodes out of 786780 nodes.\n",
      "I have setup 630000 nodes out of 786780 nodes.\n",
      "I have setup 640000 nodes out of 786780 nodes.\n",
      "I have setup 650000 nodes out of 786780 nodes.\n",
      "I have setup 660000 nodes out of 786780 nodes.\n",
      "I have setup 670000 nodes out of 786780 nodes.\n",
      "I have setup 680000 nodes out of 786780 nodes.\n",
      "I have setup 690000 nodes out of 786780 nodes.\n",
      "I have setup 700000 nodes out of 786780 nodes.\n",
      "I have setup 710000 nodes out of 786780 nodes.\n",
      "I have setup 720000 nodes out of 786780 nodes.\n",
      "I have setup 730000 nodes out of 786780 nodes.\n",
      "I have setup 740000 nodes out of 786780 nodes.\n",
      "I have setup 750000 nodes out of 786780 nodes.\n",
      "I have setup 760000 nodes out of 786780 nodes.\n",
      "I have setup 770000 nodes out of 786780 nodes.\n",
      "I have setup 780000 nodes out of 786780 nodes.\n"
     ]
    }
   ],
   "source": [
    "tFore, vFore = segmentImage(spec)"
   ]
  },
  {
   "cell_type": "code",
   "execution_count": null,
   "metadata": {},
   "outputs": [],
   "source": [
    "np.savetxt(\"whiteShot4tForeCutTandF.csv\", tFore)"
   ]
  },
  {
   "cell_type": "code",
   "execution_count": null,
   "metadata": {},
   "outputs": [],
   "source": [
    "np.savetxt(\"whiteShot4vForeCutTandF.csv\", vFore)"
   ]
  },
  {
   "cell_type": "code",
   "execution_count": null,
   "metadata": {},
   "outputs": [],
   "source": []
  }
 ],
 "metadata": {
  "kernelspec": {
   "display_name": "Python 3",
   "language": "python",
   "name": "python3"
  },
  "language_info": {
   "codemirror_mode": {
    "name": "ipython",
    "version": 3
   },
   "file_extension": ".py",
   "mimetype": "text/x-python",
   "name": "python",
   "nbconvert_exporter": "python",
   "pygments_lexer": "ipython3",
   "version": "3.7.4"
  }
 },
 "nbformat": 4,
 "nbformat_minor": 2
}
