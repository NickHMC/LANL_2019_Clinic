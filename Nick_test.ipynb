{
 "cells": [
  {
   "cell_type": "code",
   "execution_count": 1,
   "metadata": {},
   "outputs": [],
   "source": [
    "%matplotlib widget\n",
    "%load_ext autoreload\n",
    "%autoreload 2\n",
    "from spectrogram_widget import SpectrogramWidget"
   ]
  },
  {
   "cell_type": "code",
   "execution_count": 2,
   "metadata": {},
   "outputs": [],
   "source": [
    "filename = \"../dig/GEN3CH_4_009.dig\""
   ]
  },
  {
   "cell_type": "code",
   "execution_count": 3,
   "metadata": {},
   "outputs": [
    {
     "data": {
      "application/vnd.jupyter.widget-view+json": {
       "model_id": "b319253a8b3f46ff8b9a635f29c2437d",
       "version_major": 2,
       "version_minor": 0
      },
      "text/plain": [
       "Canvas(toolbar=Toolbar(toolitems=[('Home', 'Reset original view', 'home', 'home'), ('Back', 'Back to previous …"
      ]
     },
     "metadata": {},
     "output_type": "display_data"
    },
    {
     "data": {
      "application/vnd.jupyter.widget-view+json": {
       "model_id": "dbf340a9199c4ccaacd5550e1589dec0",
       "version_major": 2,
       "version_minor": 0
      },
      "text/plain": [
       "HBox(children=(VBox(children=(ValueSlider(value=(-200.0, 299.99999499999996), continuous_update=False, descrip…"
      ]
     },
     "metadata": {},
     "output_type": "display_data"
    }
   ],
   "source": [
    "sw = SpectrogramWidget(filename)"
   ]
  },
  {
   "cell_type": "code",
   "execution_count": 4,
   "metadata": {},
   "outputs": [
    {
     "name": "stdout",
     "output_type": "stream",
     "text": [
      "<spectrogram_widget.SpectrogramWidget object at 0x00000199F83132E8>\n"
     ]
    }
   ],
   "source": [
    "print(sw)"
   ]
  },
  {
   "cell_type": "code",
   "execution_count": 5,
   "metadata": {},
   "outputs": [
    {
     "name": "stdout",
     "output_type": "stream",
     "text": [
      "AxesSubplot(0.075,0.11;0.632195x0.77)\n"
     ]
    }
   ],
   "source": [
    "print(sw.axSpectrogram)"
   ]
  },
  {
   "cell_type": "code",
   "execution_count": 6,
   "metadata": {},
   "outputs": [],
   "source": [
    "spec = sw.spectrogram"
   ]
  },
  {
   "cell_type": "code",
   "execution_count": 7,
   "metadata": {},
   "outputs": [],
   "source": [
    "from extractSignal import *"
   ]
  },
  {
   "cell_type": "code",
   "execution_count": 8,
   "metadata": {},
   "outputs": [],
   "source": [
    "t1 = 14.2389/1e6\n",
    "t2 = 31.796/1e6\n",
    "sTime = spec._time_to_index(t1)\n",
    "eTime = spec._time_to_index(t2)\n",
    "\n",
    "bottomVel = 1906.38\n",
    "botInd = spec._velocity_to_index(bottomVel)\n",
    "\n",
    "topVel = 5000\n",
    "topVelInd = spec._velocity_to_index(topVel)\n",
    "\n",
    "signalJump = 25\n",
    "\n",
    "visualSignalStart = 2652.21\n",
    "visSigIndex = spec._velocity_to_index(visualSignalStart)"
   ]
  },
  {
   "cell_type": "code",
   "execution_count": 9,
   "metadata": {},
   "outputs": [],
   "source": [
    "width = 3\n",
    "order = 2"
   ]
  },
  {
   "cell_type": "code",
   "execution_count": 10,
   "metadata": {},
   "outputs": [
    {
     "name": "stdout",
     "output_type": "stream",
     "text": [
      "BottomDP: 404 TopIndex: 1057\n",
      "new time shape (144,) vel shape: (654,)\n",
      "Before the transpose: raw.shape (654, 144)\n",
      "raw.shape =  (144, 654)\n",
      "bottomDP 404\n",
      "The starting of index is  690\n",
      "\n",
      "t2-t1 143\n",
      "(t2-t1)*halfan 286\n",
      "\n",
      "1057\n",
      "404\n",
      "\n",
      "654\n",
      "144\n",
      "The value of the current pointer is 2\n",
      "The minimum cost is 354.570824229412\n",
      "0\n",
      "myStart 2\n",
      "1\n",
      "myStart 3\n",
      "2\n",
      "myStart 2\n",
      "3\n",
      "myStart 1\n",
      "4\n",
      "myStart 1\n",
      "5\n",
      "myStart 1\n",
      "6\n",
      "myStart 1\n",
      "7\n",
      "myStart 1\n",
      "8\n",
      "myStart 1\n",
      "9\n",
      "myStart 1\n",
      "10\n",
      "myStart 1\n",
      "11\n",
      "myStart 2\n",
      "12\n",
      "myStart 2\n",
      "13\n",
      "myStart 2\n",
      "14\n",
      "myStart 2\n",
      "15\n",
      "myStart 2\n",
      "16\n",
      "myStart 2\n",
      "17\n",
      "myStart 2\n",
      "18\n",
      "myStart 2\n",
      "19\n",
      "myStart 3\n",
      "20\n",
      "myStart 2\n",
      "21\n",
      "myStart 2\n",
      "22\n",
      "myStart 2\n",
      "23\n",
      "myStart 1\n",
      "24\n",
      "myStart 1\n",
      "25\n",
      "myStart 1\n",
      "26\n",
      "myStart 1\n",
      "27\n",
      "myStart 1\n",
      "28\n",
      "myStart 1\n",
      "29\n",
      "myStart 1\n",
      "30\n",
      "myStart 1\n",
      "31\n",
      "myStart 1\n",
      "32\n",
      "myStart 1\n",
      "33\n",
      "myStart 1\n",
      "34\n",
      "myStart 1\n",
      "35\n",
      "myStart 1\n",
      "36\n",
      "myStart 1\n",
      "37\n",
      "myStart 1\n",
      "38\n",
      "myStart 1\n",
      "39\n",
      "myStart 1\n",
      "40\n",
      "myStart 1\n",
      "41\n",
      "myStart 1\n",
      "42\n",
      "myStart 1\n",
      "43\n",
      "myStart 1\n",
      "44\n",
      "myStart 1\n",
      "45\n",
      "myStart 1\n",
      "46\n",
      "myStart 1\n",
      "47\n",
      "myStart 1\n",
      "48\n",
      "myStart 1\n",
      "49\n",
      "myStart 1\n",
      "50\n",
      "myStart 1\n",
      "51\n",
      "myStart 1\n",
      "52\n",
      "myStart 1\n",
      "53\n",
      "myStart 1\n",
      "54\n",
      "myStart 1\n",
      "55\n",
      "myStart 1\n",
      "56\n",
      "myStart 2\n",
      "57\n",
      "myStart 2\n",
      "58\n",
      "myStart 2\n",
      "59\n",
      "myStart 2\n",
      "60\n",
      "myStart 2\n",
      "61\n",
      "myStart 2\n",
      "62\n",
      "myStart 2\n",
      "63\n",
      "myStart 2\n",
      "64\n",
      "myStart 1\n",
      "65\n",
      "myStart 1\n",
      "66\n",
      "myStart 1\n",
      "67\n",
      "myStart 1\n",
      "68\n",
      "myStart 1\n",
      "69\n",
      "myStart 1\n",
      "70\n",
      "myStart 1\n",
      "71\n",
      "myStart 1\n",
      "72\n",
      "myStart 1\n",
      "73\n",
      "myStart 1\n",
      "74\n",
      "myStart 1\n",
      "75\n",
      "myStart 1\n",
      "76\n",
      "myStart 1\n",
      "77\n",
      "myStart 1\n",
      "78\n",
      "myStart 1\n",
      "79\n",
      "myStart 1\n",
      "80\n",
      "myStart 1\n",
      "81\n",
      "myStart 1\n",
      "82\n",
      "myStart 1\n",
      "83\n",
      "myStart 1\n",
      "84\n",
      "myStart 1\n",
      "85\n",
      "myStart 1\n",
      "86\n",
      "myStart 1\n",
      "87\n",
      "myStart 1\n",
      "88\n",
      "myStart 1\n",
      "89\n",
      "myStart 1\n",
      "90\n",
      "myStart 1\n",
      "91\n",
      "myStart 1\n",
      "92\n",
      "myStart 1\n",
      "93\n",
      "myStart 1\n",
      "94\n",
      "myStart 1\n",
      "95\n",
      "myStart 1\n",
      "96\n",
      "myStart 1\n",
      "97\n",
      "myStart 1\n",
      "98\n",
      "myStart 1\n",
      "99\n",
      "myStart 1\n",
      "100\n",
      "myStart 1\n",
      "101\n",
      "myStart 1\n",
      "102\n",
      "myStart 1\n",
      "103\n",
      "myStart 1\n",
      "104\n",
      "myStart 1\n",
      "105\n",
      "myStart 1\n",
      "106\n",
      "myStart 1\n",
      "107\n",
      "myStart 1\n",
      "108\n",
      "myStart 1\n",
      "109\n",
      "myStart 1\n",
      "110\n",
      "myStart 1\n",
      "111\n",
      "myStart 1\n",
      "112\n",
      "myStart 1\n",
      "113\n",
      "myStart 1\n",
      "114\n",
      "myStart 1\n",
      "115\n",
      "myStart 1\n",
      "116\n",
      "myStart 1\n",
      "117\n",
      "myStart 1\n",
      "118\n",
      "myStart 1\n",
      "119\n",
      "myStart 1\n",
      "120\n",
      "myStart 1\n",
      "121\n",
      "myStart 1\n",
      "122\n",
      "myStart 1\n",
      "123\n",
      "myStart 1\n",
      "124\n",
      "myStart 1\n",
      "125\n",
      "myStart 1\n",
      "126\n",
      "myStart 1\n",
      "127\n",
      "myStart 1\n",
      "128\n",
      "myStart 1\n",
      "129\n",
      "myStart 1\n",
      "130\n",
      "myStart 1\n",
      "131\n",
      "myStart 1\n",
      "132\n",
      "myStart 1\n",
      "133\n",
      "myStart 1\n",
      "134\n",
      "myStart 1\n",
      "135\n",
      "myStart 1\n",
      "136\n",
      "myStart 1\n",
      "137\n",
      "myStart 1\n",
      "138\n",
      "myStart 1\n",
      "139\n",
      "myStart 1\n",
      "140\n",
      "myStart 1\n",
      "141\n",
      "myStart 1\n",
      "142\n",
      "myStart 1\n",
      "143\n",
      "myStart 1\n"
     ]
    }
   ],
   "source": [
    "signal, p_table, dp_table, botVel, topVel = seamExtraction(spec, sTime, eTime, width, signalJump, botInd, topVelInd, order)"
   ]
  },
  {
   "cell_type": "code",
   "execution_count": 11,
   "metadata": {},
   "outputs": [],
   "source": [
    "tsec = spec.time[sTime:eTime+1]"
   ]
  },
  {
   "cell_type": "code",
   "execution_count": 12,
   "metadata": {},
   "outputs": [],
   "source": [
    "v = spec.velocity[signal]"
   ]
  },
  {
   "cell_type": "code",
   "execution_count": null,
   "metadata": {},
   "outputs": [],
   "source": [
    "seam = reconstruction(p_table, visSigIndex-botVel, botVel)"
   ]
  },
  {
   "cell_type": "code",
   "execution_count": null,
   "metadata": {},
   "outputs": [],
   "source": [
    "vSeam = spec.velocity[seam]"
   ]
  },
  {
   "cell_type": "code",
   "execution_count": 13,
   "metadata": {},
   "outputs": [
    {
     "data": {
      "text/plain": [
       "[<matplotlib.lines.Line2D at 0x199a14a3c18>]"
      ]
     },
     "execution_count": 13,
     "metadata": {},
     "output_type": "execute_result"
    }
   ],
   "source": [
    "sw.axSpectrogram.plot(tsec * 1e6, v, 'r-', alpha=0.4, label = \"Minimum Cost\")"
   ]
  },
  {
   "cell_type": "code",
   "execution_count": null,
   "metadata": {},
   "outputs": [],
   "source": [
    "sw.axSpectrogram.plot(tsec * 1e6, vSeam, 'b-', alpha=0.4, label = \"Vis Start\")"
   ]
  },
  {
   "cell_type": "code",
   "execution_count": null,
   "metadata": {},
   "outputs": [],
   "source": []
  }
 ],
 "metadata": {
  "kernelspec": {
   "display_name": "Python 3",
   "language": "python",
   "name": "python3"
  },
  "language_info": {
   "codemirror_mode": {
    "name": "ipython",
    "version": 3
   },
   "file_extension": ".py",
   "mimetype": "text/x-python",
   "name": "python",
   "nbconvert_exporter": "python",
   "pygments_lexer": "ipython3",
   "version": "3.7.1"
  }
 },
 "nbformat": 4,
 "nbformat_minor": 2
}
