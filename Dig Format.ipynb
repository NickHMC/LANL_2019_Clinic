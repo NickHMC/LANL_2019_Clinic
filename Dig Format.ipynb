{
 "cells": [
  {
   "cell_type": "code",
   "execution_count": 1,
   "metadata": {
    "ExecuteTime": {
     "end_time": "2019-11-13T02:14:41.035499Z",
     "start_time": "2019-11-13T02:14:40.207487Z"
    }
   },
   "outputs": [],
   "source": [
    "%matplotlib widget\n",
    "import matplotlib.pyplot as plt\n",
    "import numpy as np\n",
    "import os\n",
    "from digfile import DigFile"
   ]
  },
  {
   "cell_type": "markdown",
   "metadata": {},
   "source": [
    "The purpose of this file is to investigate the four combinations of endianness and signedness of dig files stored with 16 bits. \n",
    "The upshot appears to be that despite the documentation on file format that we received, .dig files store values as **unsigned** integers."
   ]
  },
  {
   "cell_type": "code",
   "execution_count": 30,
   "metadata": {
    "ExecuteTime": {
     "end_time": "2019-11-13T03:23:30.890953Z",
     "start_time": "2019-11-13T03:23:30.883909Z"
    }
   },
   "outputs": [],
   "source": [
    "def checkout(filename, start_time:float=50e-6, num_points:int=1024):\n",
    "    df = DigFile(f'../dig/{filename}')\n",
    "    print(df)\n",
    "    if df.bits == 8:\n",
    "        return \"\"\n",
    "    fig = plt.figure()\n",
    "    formats = ['<u2', '<i2', '>u2', '>i2']\n",
    "    for n, form in enumerate(formats):\n",
    "        ax = fig.add_subplot(2,2,n+1)\n",
    "        df.data_format = np.dtype(form)\n",
    "        ax.plot(df.time_values(start_time, num_points) * 1e6,\n",
    "                df.values(start_time, num_points))\n",
    "        endy = \"Big endian\" if '>' in form else \"Little endian\"\n",
    "        if n < 2:\n",
    "            ax.set_title(f\"{'Unsigned' if 'u' in form else 'Signed'}\")\n",
    "        else:\n",
    "            ax.set_xlabel(\"$t (\\\\mu \\mathrm{s})$\")\n",
    "        if n % 2 == 0:\n",
    "            ax.set_ylabel(endy)"
   ]
  },
  {
   "cell_type": "code",
   "execution_count": 31,
   "metadata": {
    "ExecuteTime": {
     "end_time": "2019-11-13T03:23:32.664908Z",
     "start_time": "2019-11-13T03:23:32.661018Z"
    }
   },
   "outputs": [],
   "source": [
    "myiter = iter([x for x in os.listdir('../dig/') if x.endswith('.dig')])"
   ]
  },
  {
   "cell_type": "code",
   "execution_count": 32,
   "metadata": {
    "ExecuteTime": {
     "end_time": "2019-11-13T03:23:33.674121Z",
     "start_time": "2019-11-13T03:23:33.607016Z"
    }
   },
   "outputs": [
    {
     "name": "stdout",
     "output_type": "stream",
     "text": [
      "../dig/GEN1_CHAN1TEK001.dig\n",
      "16 bits LSB first\n",
      "-7.800019 µs to 192.19998099999998 µs in steps of 20.0 ps\n",
      "10,000,000 points\n",
      "bits: 16\n",
      "encoding: BIN\n",
      "number_format: RP\n",
      "byte_order: LSB\n",
      "source_trace: \"Ch1, DC coupling, 60.00mV/div, 20.00us/div, 10000000 points, Sample mode\"\n",
      "number_pixel_bins: 10000000\n",
      "point_format: Y\n",
      "x_unit: \"s\"\n",
      "x_interval: 2e-11\n",
      "post_trigger_seconds: 1.87101e-11\n",
      "pulse_train_output: 390000\n",
      "y_unit: \"V\"\n",
      "y_scale_factor: 9.375e-06\n",
      "y_offset: 32767.0\n",
      "y_component: 0.0\n",
      "NR_FR: 1\n"
     ]
    },
    {
     "data": {
      "application/vnd.jupyter.widget-view+json": {
       "model_id": "9e6b692d169b4ed6bfcc80ecce023c30",
       "version_major": 2,
       "version_minor": 0
      },
      "text/plain": [
       "Canvas(toolbar=Toolbar(toolitems=[('Home', 'Reset original view', 'home', 'home'), ('Back', 'Back to  previous…"
      ]
     },
     "metadata": {},
     "output_type": "display_data"
    }
   ],
   "source": [
    "checkout(next(myiter))"
   ]
  },
  {
   "cell_type": "code",
   "execution_count": 33,
   "metadata": {
    "ExecuteTime": {
     "end_time": "2019-11-13T03:24:05.850914Z",
     "start_time": "2019-11-13T03:24:05.782560Z"
    }
   },
   "outputs": [
    {
     "name": "stdout",
     "output_type": "stream",
     "text": [
      "../dig/PDV_CHAN1BAK001.dig\n",
      "16 bits LSB first\n",
      "-9.800031 µs to 190.199969 µs in steps of 50.0 ps\n",
      "4,000,000 points\n",
      "bits: 16\n",
      "encoding: BIN\n",
      "number_format: RP\n",
      "byte_order: LSB\n",
      "source_trace: \"Ch1, DC coupling, 200.0mV/div, 20.00us/div, 4000000 points, Sample mode\"\n",
      "number_pixel_bins: 4000000\n",
      "point_format: Y\n",
      "x_unit: \"s\"\n",
      "x_interval: 5e-11\n",
      "post_trigger_seconds: 3.05e-11\n",
      "pulse_train_output: 196000\n",
      "y_unit: \"V\"\n",
      "y_scale_factor: 3.125e-05\n",
      "y_offset: 34047.0\n",
      "y_component: 0.0\n",
      "NR_FR: 1\n"
     ]
    },
    {
     "data": {
      "application/vnd.jupyter.widget-view+json": {
       "model_id": "f15d03fda6164f4a993ee36cf5a71508",
       "version_major": 2,
       "version_minor": 0
      },
      "text/plain": [
       "Canvas(toolbar=Toolbar(toolitems=[('Home', 'Reset original view', 'home', 'home'), ('Back', 'Back to  previous…"
      ]
     },
     "metadata": {},
     "output_type": "display_data"
    }
   ],
   "source": [
    "checkout(next(myiter))"
   ]
  },
  {
   "cell_type": "code",
   "execution_count": 34,
   "metadata": {
    "ExecuteTime": {
     "end_time": "2019-11-13T03:24:45.550980Z",
     "start_time": "2019-11-13T03:24:45.543757Z"
    }
   },
   "outputs": [
    {
     "name": "stdout",
     "output_type": "stream",
     "text": [
      "../dig/sample.dig\n",
      "\n",
      "0.0 µs to 50.00002 µs in steps of 20.0 ps\n",
      "2,500,001 points\n"
     ]
    },
    {
     "data": {
      "text/plain": [
       "''"
      ]
     },
     "execution_count": 34,
     "metadata": {},
     "output_type": "execute_result"
    }
   ],
   "source": [
    "checkout(next(myiter))"
   ]
  },
  {
   "cell_type": "code",
   "execution_count": 35,
   "metadata": {
    "ExecuteTime": {
     "end_time": "2019-11-13T03:24:46.582322Z",
     "start_time": "2019-11-13T03:24:46.577434Z"
    }
   },
   "outputs": [
    {
     "name": "stdout",
     "output_type": "stream",
     "text": [
      "../dig/GEN3CH_4_009.dig\n",
      "8 bits LSB first\n",
      "-200.0 µs to 1800.0 µs in steps of 20.0 ps\n",
      "100,000,000 points\n",
      "bits: 8\n",
      "encoding: BIN\n",
      "number_format: RP\n",
      "byte_order: LSB\n",
      "source_trace: \"Ch4, DC coupling, 200.0mV/div, 200.0us/div, 100000000 points, Sample mode\"\n",
      "number_pixel_bins: 100000000\n",
      "point_format: Y\n",
      "x_unit: \"s\"\n",
      "x_interval: 2e-11\n",
      "post_trigger_seconds: 4.937688e-13\n",
      "pulse_train_output: 10000000\n",
      "y_unit: \"V\"\n",
      "y_scale_factor: 0.008\n",
      "y_offset: 128.0\n",
      "y_component: 0.0\n",
      "NR_FR: 1\n"
     ]
    },
    {
     "data": {
      "text/plain": [
       "''"
      ]
     },
     "execution_count": 35,
     "metadata": {},
     "output_type": "execute_result"
    }
   ],
   "source": [
    "checkout(next(myiter))"
   ]
  },
  {
   "cell_type": "code",
   "execution_count": 36,
   "metadata": {
    "ExecuteTime": {
     "end_time": "2019-11-13T03:24:49.545036Z",
     "start_time": "2019-11-13T03:24:49.480356Z"
    }
   },
   "outputs": [
    {
     "name": "stdout",
     "output_type": "stream",
     "text": [
      "../dig/GEN3_CHANNEL1KEY001.dig\n",
      "\n",
      "-65.49002 µs to 1215.75998 µs in steps of 25.0 ps\n",
      "51,250,000 points\n",
      "P14FMT 2\n",
      "6\n",
      "51250000\n",
      "1\n",
      "2.5000000E-11\n",
      "-6.5490020969802E-05\n",
      "0E+00\n",
      "6.58660E-06\n",
      "2.52296E-03\n",
      "0E+00\n",
      "2\n",
      "1.00000E-03\n",
      "-6.5490000000000E-05\n",
      "4.00000E-01\n",
      "-3.30000E-03\n",
      "\"11 AUG 2016\"\n",
      "\"04:57:13:15\"\n",
      "\"DSO91304A:MY53450149\"\n",
      "0\n",
      "100\n",
      "2\n",
      "1\n",
      "1.30000E+10\n",
      "0E+00\n"
     ]
    },
    {
     "data": {
      "application/vnd.jupyter.widget-view+json": {
       "model_id": "27690a6936054940a778bed767e2cfda",
       "version_major": 2,
       "version_minor": 0
      },
      "text/plain": [
       "Canvas(toolbar=Toolbar(toolitems=[('Home', 'Reset original view', 'home', 'home'), ('Back', 'Back to  previous…"
      ]
     },
     "metadata": {},
     "output_type": "display_data"
    }
   ],
   "source": [
    "checkout(next(myiter))"
   ]
  },
  {
   "cell_type": "code",
   "execution_count": 37,
   "metadata": {
    "ExecuteTime": {
     "end_time": "2019-11-13T03:24:59.766073Z",
     "start_time": "2019-11-13T03:24:59.695859Z"
    }
   },
   "outputs": [
    {
     "name": "stdout",
     "output_type": "stream",
     "text": [
      "../dig/GEN1_CHAN1TEKBAK001.dig\n",
      "16 bits LSB first\n",
      "-7.800019 µs to 192.19998099999998 µs in steps of 20.0 ps\n",
      "10,000,000 points\n",
      "bits: 16\n",
      "encoding: BIN\n",
      "number_format: RP\n",
      "byte_order: LSB\n",
      "source_trace: \"Ch3, DC coupling, 150.0mV/div, 20.00us/div, 10000000 points, Sample mode\"\n",
      "number_pixel_bins: 10000000\n",
      "point_format: Y\n",
      "x_unit: \"s\"\n",
      "x_interval: 2e-11\n",
      "post_trigger_seconds: 1.87101e-11\n",
      "pulse_train_output: 390000\n",
      "y_unit: \"V\"\n",
      "y_scale_factor: 2.34375e-05\n",
      "y_offset: 33023.0\n",
      "y_component: 0.0\n",
      "NR_FR: 1\n"
     ]
    },
    {
     "data": {
      "application/vnd.jupyter.widget-view+json": {
       "model_id": "0946e0770097449b8a033d7b0193fe14",
       "version_major": 2,
       "version_minor": 0
      },
      "text/plain": [
       "Canvas(toolbar=Toolbar(toolitems=[('Home', 'Reset original view', 'home', 'home'), ('Back', 'Back to  previous…"
      ]
     },
     "metadata": {},
     "output_type": "display_data"
    }
   ],
   "source": [
    "checkout(next(myiter))"
   ]
  },
  {
   "cell_type": "code",
   "execution_count": 38,
   "metadata": {
    "ExecuteTime": {
     "end_time": "2019-11-13T03:25:07.723216Z",
     "start_time": "2019-11-13T03:25:07.661121Z"
    }
   },
   "outputs": [
    {
     "name": "stdout",
     "output_type": "stream",
     "text": [
      "../dig/GEN3_CHAN1TEK001.dig\n",
      "16 bits LSB first\n",
      "-50.000029999999995 µs to 949.99997 µs in steps of 40.0 ps\n",
      "25,000,000 points\n",
      "bits: 16\n",
      "encoding: BIN\n",
      "number_format: RP\n",
      "byte_order: LSB\n",
      "source_trace: \"Ch2, DC coupling, 150.0mV/div, 100.0us/div, 25000000 points, Sample mode\"\n",
      "number_pixel_bins: 25000000\n",
      "point_format: Y\n",
      "x_unit: \"s\"\n",
      "x_interval: 4e-11\n",
      "post_trigger_seconds: 3.09226e-11\n",
      "pulse_train_output: 1250000\n",
      "y_unit: \"V\"\n",
      "y_scale_factor: 2.34375e-05\n",
      "y_offset: 32255.0\n",
      "y_component: 0.0\n",
      "NR_FR: 1\n"
     ]
    },
    {
     "data": {
      "application/vnd.jupyter.widget-view+json": {
       "model_id": "68f6de4fd6c8417eac8f990210cf566d",
       "version_major": 2,
       "version_minor": 0
      },
      "text/plain": [
       "Canvas(toolbar=Toolbar(toolitems=[('Home', 'Reset original view', 'home', 'home'), ('Back', 'Back to  previous…"
      ]
     },
     "metadata": {},
     "output_type": "display_data"
    }
   ],
   "source": [
    "checkout(next(myiter))"
   ]
  },
  {
   "cell_type": "code",
   "execution_count": 39,
   "metadata": {
    "ExecuteTime": {
     "end_time": "2019-11-13T03:25:18.012163Z",
     "start_time": "2019-11-13T03:25:17.943919Z"
    }
   },
   "outputs": [
    {
     "name": "stdout",
     "output_type": "stream",
     "text": [
      "../dig/PDV_CHAN1001.dig\n",
      "16 bits LSB first\n",
      "-22.18004 µs to 177.81996 µs in steps of 50.0 ps\n",
      "4,000,000 points\n",
      "bits: 16\n",
      "encoding: BIN\n",
      "number_format: RP\n",
      "byte_order: LSB\n",
      "source_trace: \"Ch1, DC coupling, 50.00mV/div, 20.00us/div, 4000000 points, Sample mode\"\n",
      "number_pixel_bins: 4000000\n",
      "point_format: Y\n",
      "x_unit: \"s\"\n",
      "x_interval: 5e-11\n",
      "post_trigger_seconds: 4.375e-11\n",
      "pulse_train_output: 443600\n",
      "y_unit: \"V\"\n",
      "y_scale_factor: 7.8125e-06\n",
      "y_offset: 33151.0\n",
      "y_component: 0.0\n",
      "NR_FR: 1\n"
     ]
    },
    {
     "data": {
      "application/vnd.jupyter.widget-view+json": {
       "model_id": "e2683119fbd04d01bd90780816811980",
       "version_major": 2,
       "version_minor": 0
      },
      "text/plain": [
       "Canvas(toolbar=Toolbar(toolitems=[('Home', 'Reset original view', 'home', 'home'), ('Back', 'Back to  previous…"
      ]
     },
     "metadata": {},
     "output_type": "display_data"
    }
   ],
   "source": [
    "checkout(next(myiter))"
   ]
  },
  {
   "cell_type": "code",
   "execution_count": 26,
   "metadata": {
    "ExecuteTime": {
     "end_time": "2019-11-13T02:21:05.940238Z",
     "start_time": "2019-11-13T02:21:05.930252Z"
    }
   },
   "outputs": [
    {
     "ename": "StopIteration",
     "evalue": "",
     "output_type": "error",
     "traceback": [
      "\u001b[0;31m---------------------------------------------------------------------------\u001b[0m",
      "\u001b[0;31mStopIteration\u001b[0m                             Traceback (most recent call last)",
      "\u001b[0;32m<ipython-input-26-5e2553c0ab5e>\u001b[0m in \u001b[0;36m<module>\u001b[0;34m\u001b[0m\n\u001b[0;32m----> 1\u001b[0;31m \u001b[0mcheckout\u001b[0m\u001b[0;34m(\u001b[0m\u001b[0mnext\u001b[0m\u001b[0;34m(\u001b[0m\u001b[0mmyiter\u001b[0m\u001b[0;34m)\u001b[0m\u001b[0;34m)\u001b[0m\u001b[0;34m\u001b[0m\u001b[0;34m\u001b[0m\u001b[0m\n\u001b[0m",
      "\u001b[0;31mStopIteration\u001b[0m: "
     ]
    }
   ],
   "source": [
    "checkout(next(myiter))"
   ]
  },
  {
   "cell_type": "code",
   "execution_count": null,
   "metadata": {},
   "outputs": [],
   "source": []
  }
 ],
 "metadata": {
  "kernelspec": {
   "display_name": "Python 3",
   "language": "python",
   "name": "python3"
  },
  "language_info": {
   "codemirror_mode": {
    "name": "ipython",
    "version": 3
   },
   "file_extension": ".py",
   "mimetype": "text/x-python",
   "name": "python",
   "nbconvert_exporter": "python",
   "pygments_lexer": "ipython3",
   "version": "3.7.5"
  },
  "toc": {
   "base_numbering": 1,
   "nav_menu": {},
   "number_sections": true,
   "sideBar": true,
   "skip_h1_title": false,
   "title_cell": "Table of Contents",
   "title_sidebar": "Contents",
   "toc_cell": false,
   "toc_position": {},
   "toc_section_display": true,
   "toc_window_display": false
  }
 },
 "nbformat": 4,
 "nbformat_minor": 2
}
