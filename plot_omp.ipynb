{
 "cells": [
  {
   "cell_type": "code",
   "execution_count": null,
   "metadata": {},
   "outputs": [],
   "source": [
    "%matplotlib inline"
   ]
  },
  {
   "cell_type": "code",
   "execution_count": null,
   "metadata": {},
   "outputs": [],
   "source": []
  },
  {
   "cell_type": "code",
   "execution_count": null,
   "metadata": {},
   "outputs": [],
   "source": [
    "%%notify -m \"sleep for 5 secs\"\n",
    "import time\n",
    "time.sleep(3)"
   ]
  },
  {
   "cell_type": "markdown",
   "metadata": {},
   "source": [
    "\n",
    "# Orthogonal Matching Pursuit\n",
    "\n",
    "\n",
    "Using orthogonal matching pursuit for recovering a sparse signal from a noisy\n",
    "measurement encoded with a dictionary\n",
    "\n"
   ]
  },
  {
   "cell_type": "code",
   "execution_count": null,
   "metadata": {},
   "outputs": [],
   "source": [
    "print(__doc__)\n",
    "\n",
    "import matplotlib.pyplot as plt\n",
    "import numpy as np\n",
    "from sklearn.linear_model import OrthogonalMatchingPursuit\n",
    "from sklearn.linear_model import OrthogonalMatchingPursuitCV\n",
    "from sklearn.datasets import make_sparse_coded_signal\n",
    "\n",
    "n_components, n_features = 512, 100\n",
    "n_nonzero_coefs = 17\n",
    "\n",
    "# generate the data\n",
    "\n",
    "# y = Xw\n",
    "# |x|_0 = n_nonzero_coefs\n",
    "\n",
    "\n",
    "y, X, w = make_sparse_coded_signal(n_samples=1,\n",
    "                                   n_components=n_components,\n",
    "                                   n_features=n_features,\n",
    "                                   n_nonzero_coefs=n_nonzero_coefs,\n",
    "                                   random_state=0)"
   ]
  },
  {
   "cell_type": "code",
   "execution_count": null,
   "metadata": {},
   "outputs": [],
   "source": [
    "y.shape"
   ]
  },
  {
   "cell_type": "code",
   "execution_count": null,
   "metadata": {},
   "outputs": [],
   "source": [
    "w"
   ]
  },
  {
   "cell_type": "code",
   "execution_count": null,
   "metadata": {},
   "outputs": [],
   "source": [
    "X.shape"
   ]
  },
  {
   "cell_type": "code",
   "execution_count": null,
   "metadata": {},
   "outputs": [],
   "source": [
    "idx, = w.nonzero()\n",
    "\n",
    "# distort the clean signal\n",
    "y_noisy = y + 0.05 * np.random.randn(len(y))\n",
    "\n",
    "# plot the sparse signal\n",
    "plt.figure(figsize=(7, 7))\n",
    "plt.subplot(4, 1, 1)\n",
    "plt.xlim(0, 512)\n",
    "plt.title(\"Sparse signal\")\n",
    "plt.stem(idx, w[idx])"
   ]
  },
  {
   "cell_type": "code",
   "execution_count": null,
   "metadata": {},
   "outputs": [],
   "source": [
    "y_noisy.shape"
   ]
  },
  {
   "cell_type": "code",
   "execution_count": null,
   "metadata": {},
   "outputs": [],
   "source": [
    "# plot the noise-free reconstruction\n",
    "omp = OrthogonalMatchingPursuit(n_nonzero_coefs=n_nonzero_coefs)\n",
    "omp.fit(X, y)\n",
    "coef = omp.coef_\n",
    "idx_r, = coef.nonzero()\n",
    "plt.subplot(4, 1, 2)\n",
    "plt.xlim(0, 512)\n",
    "plt.title(\"Recovered signal from noise-free measurements\")\n",
    "plt.stem(idx_r, coef[idx_r])"
   ]
  },
  {
   "cell_type": "code",
   "execution_count": null,
   "metadata": {},
   "outputs": [],
   "source": [
    "# plot the noisy reconstruction\n",
    "omp.fit(X, y_noisy)\n",
    "coef = omp.coef_\n",
    "idx_r, = coef.nonzero()\n",
    "plt.subplot(4, 1, 3)\n",
    "plt.xlim(0, 512)\n",
    "plt.title(\"Recovered signal from noisy measurements\")\n",
    "plt.stem(idx_r, coef[idx_r])"
   ]
  },
  {
   "cell_type": "code",
   "execution_count": null,
   "metadata": {},
   "outputs": [],
   "source": [
    "# plot the noisy reconstruction with number of non-zeros set by CV\n",
    "omp_cv = OrthogonalMatchingPursuitCV(cv=5)\n",
    "omp_cv.fit(X, y_noisy)\n",
    "coef = omp_cv.coef_\n",
    "idx_r, = coef.nonzero()\n",
    "plt.subplot(4, 1, 4)\n",
    "plt.xlim(0, 512)\n",
    "plt.title(\"Recovered signal from noisy measurements with CV\")\n",
    "plt.stem(idx_r, coef[idx_r])"
   ]
  },
  {
   "cell_type": "code",
   "execution_count": null,
   "metadata": {},
   "outputs": [],
   "source": [
    "plt.subplots_adjust(0.06, 0.04, 0.94, 0.90, 0.20, 0.38)\n",
    "plt.suptitle('Sparse signal recovery with Orthogonal Matching Pursuit',\n",
    "             fontsize=16)\n",
    "plt.show()"
   ]
  },
  {
   "cell_type": "code",
   "execution_count": null,
   "metadata": {},
   "outputs": [],
   "source": []
  },
  {
   "cell_type": "code",
   "execution_count": null,
   "metadata": {},
   "outputs": [],
   "source": []
  },
  {
   "cell_type": "code",
   "execution_count": null,
   "metadata": {},
   "outputs": [],
   "source": []
  },
  {
   "cell_type": "code",
   "execution_count": 48,
   "metadata": {},
   "outputs": [],
   "source": [
    "import spectrogram\n",
    "import os\n",
    "import sys\n",
    "import time\n",
    "import datetime\n",
    "import numpy as np\n",
    "import matplotlib.pyplot as plt\n",
    "from sklearn.decomposition import dict_learning"
   ]
  },
  {
   "cell_type": "code",
   "execution_count": 49,
   "metadata": {},
   "outputs": [
    {
     "name": "stdout",
     "output_type": "stream",
     "text": [
      "The jupyternotify extension is already loaded. To reload it, use:\n",
      "  %reload_ext jupyternotify\n"
     ]
    }
   ],
   "source": [
    "%load_ext jupyternotify"
   ]
  },
  {
   "cell_type": "code",
   "execution_count": 50,
   "metadata": {},
   "outputs": [],
   "source": [
    "digfile_name = os.path.basename(os.path.normpath(\"GEN3CH_4_009.dig\"))"
   ]
  },
  {
   "cell_type": "code",
   "execution_count": 51,
   "metadata": {},
   "outputs": [],
   "source": [
    "sp = spectrogram.Spectrogram(digfile_name)\n",
    "sp_bp = spectrogram.Spectrogram(digfile_name)"
   ]
  },
  {
   "cell_type": "code",
   "execution_count": 52,
   "metadata": {},
   "outputs": [],
   "source": [
    "sgram = sp.spectrogram(0,50e-6)\n",
    "sgram_bp = sp_bp.spectrogram(0,50e-6)"
   ]
  },
  {
   "cell_type": "code",
   "execution_count": 71,
   "metadata": {},
   "outputs": [],
   "source": [
    "sbp1 = sgram['spectrogram']\n",
    "sbp2 = sgram_bp['spectrogram']"
   ]
  },
  {
   "cell_type": "code",
   "execution_count": 79,
   "metadata": {},
   "outputs": [],
   "source": [
    "sbp2 = sbp2.transpose()"
   ]
  },
  {
   "cell_type": "code",
   "execution_count": 67,
   "metadata": {},
   "outputs": [],
   "source": [
    "# sbp1.shape"
   ]
  },
  {
   "cell_type": "code",
   "execution_count": 68,
   "metadata": {},
   "outputs": [],
   "source": [
    "# omp = OrthogonalMatchingPursuit(n_nonzero_coefs=5)\n"
   ]
  },
  {
   "cell_type": "code",
   "execution_count": 80,
   "metadata": {},
   "outputs": [
    {
     "name": "stdout",
     "output_type": "stream",
     "text": [
      "(4097,)\n"
     ]
    },
    {
     "ename": "ValueError",
     "evalue": "expected matrix",
     "output_type": "error",
     "traceback": [
      "\u001b[0;31m---------------------------------------------------------------------------\u001b[0m",
      "\u001b[0;31mValueError\u001b[0m                                Traceback (most recent call last)",
      "\u001b[0;32m<ipython-input-80-80f6c539dfde>\u001b[0m in \u001b[0;36m<module>\u001b[0;34m\u001b[0m\n\u001b[1;32m      1\u001b[0m \u001b[0;32mfor\u001b[0m \u001b[0mi\u001b[0m\u001b[0;34m,\u001b[0m \u001b[0mcolumn\u001b[0m \u001b[0;32min\u001b[0m \u001b[0menumerate\u001b[0m\u001b[0;34m(\u001b[0m\u001b[0msbp2\u001b[0m\u001b[0;34m)\u001b[0m\u001b[0;34m:\u001b[0m\u001b[0;34m\u001b[0m\u001b[0m\n\u001b[1;32m      2\u001b[0m     \u001b[0mprint\u001b[0m\u001b[0;34m(\u001b[0m\u001b[0mcolumn\u001b[0m\u001b[0;34m.\u001b[0m\u001b[0mshape\u001b[0m\u001b[0;34m)\u001b[0m\u001b[0;34m\u001b[0m\u001b[0m\n\u001b[0;32m----> 3\u001b[0;31m     \u001b[0mcode\u001b[0m\u001b[0;34m,\u001b[0m \u001b[0mdictionary\u001b[0m\u001b[0;34m,\u001b[0m \u001b[0merrors\u001b[0m \u001b[0;34m=\u001b[0m \u001b[0mdict_learning\u001b[0m\u001b[0;34m(\u001b[0m\u001b[0mcolumn\u001b[0m\u001b[0;34m,\u001b[0m \u001b[0mn_components\u001b[0m\u001b[0;34m=\u001b[0m\u001b[0;36m5\u001b[0m\u001b[0;34m,\u001b[0m \u001b[0malpha\u001b[0m\u001b[0;34m=\u001b[0m\u001b[0;36m.70\u001b[0m\u001b[0;34m,\u001b[0m \u001b[0mmax_iter\u001b[0m\u001b[0;34m=\u001b[0m\u001b[0;36m20\u001b[0m\u001b[0;34m)\u001b[0m\u001b[0;34m\u001b[0m\u001b[0m\n\u001b[0m\u001b[1;32m      4\u001b[0m     \u001b[0msbp2\u001b[0m\u001b[0;34m[\u001b[0m\u001b[0mi\u001b[0m\u001b[0;34m]\u001b[0m \u001b[0;34m=\u001b[0m \u001b[0mnp\u001b[0m\u001b[0;34m.\u001b[0m\u001b[0mdot\u001b[0m\u001b[0;34m(\u001b[0m\u001b[0mcode\u001b[0m\u001b[0;34m,\u001b[0m \u001b[0mdictionary\u001b[0m\u001b[0;34m)\u001b[0m\u001b[0;34m\u001b[0m\u001b[0m\n\u001b[1;32m      5\u001b[0m \u001b[0;34m\u001b[0m\u001b[0m\n",
      "\u001b[0;32m/Library/Frameworks/Python.framework/Versions/3.6/lib/python3.6/site-packages/sklearn/decomposition/dict_learning.py\u001b[0m in \u001b[0;36mdict_learning\u001b[0;34m(X, n_components, alpha, max_iter, tol, method, n_jobs, dict_init, code_init, callback, verbose, random_state, return_n_iter, positive_dict, positive_code)\u001b[0m\n\u001b[1;32m    533\u001b[0m         \u001b[0mdictionary\u001b[0m \u001b[0;34m=\u001b[0m \u001b[0mdict_init\u001b[0m\u001b[0;34m\u001b[0m\u001b[0m\n\u001b[1;32m    534\u001b[0m     \u001b[0;32melse\u001b[0m\u001b[0;34m:\u001b[0m\u001b[0;34m\u001b[0m\u001b[0m\n\u001b[0;32m--> 535\u001b[0;31m         \u001b[0mcode\u001b[0m\u001b[0;34m,\u001b[0m \u001b[0mS\u001b[0m\u001b[0;34m,\u001b[0m \u001b[0mdictionary\u001b[0m \u001b[0;34m=\u001b[0m \u001b[0mlinalg\u001b[0m\u001b[0;34m.\u001b[0m\u001b[0msvd\u001b[0m\u001b[0;34m(\u001b[0m\u001b[0mX\u001b[0m\u001b[0;34m,\u001b[0m \u001b[0mfull_matrices\u001b[0m\u001b[0;34m=\u001b[0m\u001b[0;32mFalse\u001b[0m\u001b[0;34m)\u001b[0m\u001b[0;34m\u001b[0m\u001b[0m\n\u001b[0m\u001b[1;32m    536\u001b[0m         \u001b[0mdictionary\u001b[0m \u001b[0;34m=\u001b[0m \u001b[0mS\u001b[0m\u001b[0;34m[\u001b[0m\u001b[0;34m:\u001b[0m\u001b[0;34m,\u001b[0m \u001b[0mnp\u001b[0m\u001b[0;34m.\u001b[0m\u001b[0mnewaxis\u001b[0m\u001b[0;34m]\u001b[0m \u001b[0;34m*\u001b[0m \u001b[0mdictionary\u001b[0m\u001b[0;34m\u001b[0m\u001b[0m\n\u001b[1;32m    537\u001b[0m     \u001b[0mr\u001b[0m \u001b[0;34m=\u001b[0m \u001b[0mlen\u001b[0m\u001b[0;34m(\u001b[0m\u001b[0mdictionary\u001b[0m\u001b[0;34m)\u001b[0m\u001b[0;34m\u001b[0m\u001b[0m\n",
      "\u001b[0;32m/Library/Frameworks/Python.framework/Versions/3.6/lib/python3.6/site-packages/scipy/linalg/decomp_svd.py\u001b[0m in \u001b[0;36msvd\u001b[0;34m(a, full_matrices, compute_uv, overwrite_a, check_finite, lapack_driver)\u001b[0m\n\u001b[1;32m    109\u001b[0m     \u001b[0ma1\u001b[0m \u001b[0;34m=\u001b[0m \u001b[0m_asarray_validated\u001b[0m\u001b[0;34m(\u001b[0m\u001b[0ma\u001b[0m\u001b[0;34m,\u001b[0m \u001b[0mcheck_finite\u001b[0m\u001b[0;34m=\u001b[0m\u001b[0mcheck_finite\u001b[0m\u001b[0;34m)\u001b[0m\u001b[0;34m\u001b[0m\u001b[0m\n\u001b[1;32m    110\u001b[0m     \u001b[0;32mif\u001b[0m \u001b[0mlen\u001b[0m\u001b[0;34m(\u001b[0m\u001b[0ma1\u001b[0m\u001b[0;34m.\u001b[0m\u001b[0mshape\u001b[0m\u001b[0;34m)\u001b[0m \u001b[0;34m!=\u001b[0m \u001b[0;36m2\u001b[0m\u001b[0;34m:\u001b[0m\u001b[0;34m\u001b[0m\u001b[0m\n\u001b[0;32m--> 111\u001b[0;31m         \u001b[0;32mraise\u001b[0m \u001b[0mValueError\u001b[0m\u001b[0;34m(\u001b[0m\u001b[0;34m'expected matrix'\u001b[0m\u001b[0;34m)\u001b[0m\u001b[0;34m\u001b[0m\u001b[0m\n\u001b[0m\u001b[1;32m    112\u001b[0m     \u001b[0mm\u001b[0m\u001b[0;34m,\u001b[0m \u001b[0mn\u001b[0m \u001b[0;34m=\u001b[0m \u001b[0ma1\u001b[0m\u001b[0;34m.\u001b[0m\u001b[0mshape\u001b[0m\u001b[0;34m\u001b[0m\u001b[0m\n\u001b[1;32m    113\u001b[0m     \u001b[0moverwrite_a\u001b[0m \u001b[0;34m=\u001b[0m \u001b[0moverwrite_a\u001b[0m \u001b[0;32mor\u001b[0m \u001b[0;34m(\u001b[0m\u001b[0m_datacopied\u001b[0m\u001b[0;34m(\u001b[0m\u001b[0ma1\u001b[0m\u001b[0;34m,\u001b[0m \u001b[0ma\u001b[0m\u001b[0;34m)\u001b[0m\u001b[0;34m)\u001b[0m\u001b[0;34m\u001b[0m\u001b[0m\n",
      "\u001b[0;31mValueError\u001b[0m: expected matrix"
     ]
    }
   ],
   "source": [
    "for i, column in enumerate(sbp2):\n",
    "    print(column.shape)\n",
    "    code, dictionary, errors = dict_learning(column, n_components=5, alpha=.70, max_iter=20)\n",
    "    sbp2[i] = np.dot(code, dictionary)\n",
    "    \n",
    "print(sbp2.shape)\n",
    "print(sbp1.shape)\n"
   ]
  },
  {
   "cell_type": "code",
   "execution_count": null,
   "metadata": {},
   "outputs": [],
   "source": [
    "# %%notify -o\n",
    "\n",
    "# code, dictionary, errors = dict_learning(sbp1, n_components=5, alpha=.70, max_iter=20)\n",
    "\n",
    "# 'dictionary learning finished'"
   ]
  },
  {
   "cell_type": "code",
   "execution_count": null,
   "metadata": {},
   "outputs": [],
   "source": [
    "# code.shape"
   ]
  },
  {
   "cell_type": "code",
   "execution_count": null,
   "metadata": {},
   "outputs": [],
   "source": [
    "# dictionary.shape"
   ]
  },
  {
   "cell_type": "code",
   "execution_count": null,
   "metadata": {},
   "outputs": [],
   "source": [
    "# sgram_bp_new = np.dot(code, dictionary)"
   ]
  },
  {
   "cell_type": "code",
   "execution_count": null,
   "metadata": {},
   "outputs": [],
   "source": [
    "# difference = sgram_bp_new - sgram['spectrogram']\n",
    "# # difference.shape\n",
    "\n",
    "# product = sgram_bp_new * sgram['spectrogram']\n",
    "# # product.shape\n",
    "\n",
    "# quotient = sgram_bp_new / sgram['spectrogram']\n",
    "# # quotient.shape"
   ]
  },
  {
   "cell_type": "code",
   "execution_count": 36,
   "metadata": {},
   "outputs": [
    {
     "data": {
      "text/plain": [
       "(4097, 348)"
      ]
     },
     "execution_count": 36,
     "metadata": {},
     "output_type": "execute_result"
    }
   ],
   "source": [
    "# sgram['spectrogram'].shape"
   ]
  },
  {
   "cell_type": "code",
   "execution_count": null,
   "metadata": {},
   "outputs": [],
   "source": [
    "axes1 = plt.axes()\n",
    "sgram_bp['spectrogram'] = sbp2\n",
    "sp.plot(axes1, sgram_bp)"
   ]
  },
  {
   "cell_type": "code",
   "execution_count": null,
   "metadata": {},
   "outputs": [],
   "source": [
    "axes2 = plt.axes()\n",
    "sp.plot(axes2, sgram)"
   ]
  },
  {
   "cell_type": "code",
   "execution_count": null,
   "metadata": {},
   "outputs": [],
   "source": []
  },
  {
   "cell_type": "code",
   "execution_count": null,
   "metadata": {},
   "outputs": [],
   "source": []
  },
  {
   "cell_type": "code",
   "execution_count": null,
   "metadata": {},
   "outputs": [],
   "source": []
  },
  {
   "cell_type": "code",
   "execution_count": null,
   "metadata": {},
   "outputs": [],
   "source": []
  },
  {
   "cell_type": "code",
   "execution_count": null,
   "metadata": {},
   "outputs": [],
   "source": []
  },
  {
   "cell_type": "code",
   "execution_count": 37,
   "metadata": {},
   "outputs": [],
   "source": [
    "from __future__ import print_function\n",
    "from builtins import input\n",
    "from builtins import range\n",
    "\n",
    "import numpy as np\n",
    "\n",
    "from sporco.admm import bpdn\n",
    "from sporco import util\n",
    "from sporco import plot\n",
    "plot.config_notebook_plotting()\n"
   ]
  },
  {
   "cell_type": "code",
   "execution_count": 38,
   "metadata": {},
   "outputs": [],
   "source": [
    "N = 4097      # Signal size\n",
    "M = 438   # Dictionary size\n",
    "L = 10       # Number of non-zero coefficients in generator\n",
    "sigma = 0.5  # Noise level\n"
   ]
  },
  {
   "cell_type": "code",
   "execution_count": 39,
   "metadata": {},
   "outputs": [],
   "source": [
    "# Construct random dictionary and random sparse coefficients\n",
    "np.random.seed(12345)\n",
    "D = np.random.randn(N, M)\n",
    "x0 = np.zeros((M, 1))\n",
    "si = np.random.permutation(list(range(0, M-1)))\n",
    "x0[si[0:L]] = np.random.randn(L, 1)\n",
    "\n",
    "# Construct reference and noisy signal\n",
    "s0 = D.dot(x0)\n",
    "s = s0 + sigma*np.random.randn(N,1)"
   ]
  },
  {
   "cell_type": "code",
   "execution_count": 43,
   "metadata": {},
   "outputs": [
    {
     "name": "stdout",
     "output_type": "stream",
     "text": [
      "(438, 1)\n",
      "(4097, 1)\n",
      "(4097, 438)\n"
     ]
    }
   ],
   "source": [
    "print(x0.shape)\n",
    "print(s0.shape)\n",
    "print(D.shape)"
   ]
  },
  {
   "cell_type": "code",
   "execution_count": 44,
   "metadata": {},
   "outputs": [],
   "source": [
    "opt = bpdn.BPDN.Options({'Verbose': False, 'MaxMainIter': 500,\n",
    "                    'RelStopTol': 1e-3, 'AutoRho': {'RsdlTarget': 1.0}})\n"
   ]
  },
  {
   "cell_type": "code",
   "execution_count": 45,
   "metadata": {},
   "outputs": [
    {
     "name": "stdout",
     "output_type": "stream",
     "text": [
      "Minimum ℓ1 error:  0.22 at 𝜆 = 6.95e+01\n"
     ]
    }
   ],
   "source": [
    "# Function computing reconstruction error at lmbda\n",
    "def evalerr(prm):\n",
    "    lmbda = prm[0]\n",
    "    b = bpdn.BPDN(D, s, lmbda, opt)\n",
    "    x = b.solve()\n",
    "    return np.sum(np.abs(x-x0))\n",
    "\n",
    "\n",
    "# Parallel evalution of error function on lmbda grid\n",
    "lrng = np.logspace(1, 2, 20)\n",
    "sprm, sfvl, fvmx, sidx = util.grid_search(evalerr, (lrng,))\n",
    "lmbda = sprm[0]\n",
    "\n",
    "print('Minimum ℓ1 error: %5.2f at 𝜆 = %.2e' % (sfvl, lmbda))\n"
   ]
  },
  {
   "cell_type": "code",
   "execution_count": 46,
   "metadata": {},
   "outputs": [
    {
     "name": "stdout",
     "output_type": "stream",
     "text": [
      "Itn   Fnc       DFid      Regℓ1     r         s         ρ       \n",
      "----------------------------------------------------------------\n",
      "   0  1.13e+03  6.06e+02  7.57e+00  4.36e-01  8.21e+00  3.48e+03\n",
      "   1  9.91e+02  5.14e+02  6.87e+00  5.52e-02  1.20e+00  3.48e+03\n",
      "   2  9.91e+02  5.14e+02  6.86e+00  1.30e-02  8.09e-02  3.48e+03\n",
      "   3  9.90e+02  5.15e+02  6.84e+00  3.23e-03  3.42e-02  3.48e+03\n",
      "   4  9.90e+02  5.15e+02  6.84e+00  9.05e-04  7.87e-03  3.48e+03\n",
      "   5  9.90e+02  5.15e+02  6.84e+00  2.89e-04  1.64e-03  3.48e+03\n",
      "   6  9.90e+02  5.15e+02  6.84e+00  1.01e-04  3.65e-04  3.48e+03\n",
      "----------------------------------------------------------------\n",
      "BPDN solve time: 0.02s\n"
     ]
    }
   ],
   "source": [
    "# Initialise and run BPDN object for best lmbda\n",
    "opt['Verbose'] = True\n",
    "b = bpdn.BPDN(D, s, lmbda, opt)\n",
    "x = b.solve()\n",
    "\n",
    "print(\"BPDN solve time: %.2fs\" % b.timer.elapsed('solve'))\n"
   ]
  },
  {
   "cell_type": "code",
   "execution_count": 47,
   "metadata": {},
   "outputs": [
    {
     "data": {
      "image/png": "[encoded data removed]",
      "text/plain": [
       "<Figure size 432x288 with 1 Axes>"
      ]
     },
     "metadata": {
      "needs_background": "light"
     },
     "output_type": "display_data"
    }
   ],
   "source": [
    "plot.plot(np.hstack((x0, x)), title='Sparse representation',\n",
    "          lgnd=['Reference', 'Reconstructed'])\n"
   ]
  },
  {
   "cell_type": "code",
   "execution_count": null,
   "metadata": {},
   "outputs": [],
   "source": []
  },
  {
   "cell_type": "code",
   "execution_count": null,
   "metadata": {},
   "outputs": [],
   "source": []
  },
  {
   "cell_type": "code",
   "execution_count": 22,
   "metadata": {},
   "outputs": [],
   "source": [
    "L = 2"
   ]
  },
  {
   "cell_type": "code",
   "execution_count": 23,
   "metadata": {},
   "outputs": [],
   "source": [
    "N = 5"
   ]
  },
  {
   "cell_type": "code",
   "execution_count": 24,
   "metadata": {},
   "outputs": [],
   "source": [
    "M = 4*N"
   ]
  },
  {
   "cell_type": "code",
   "execution_count": 25,
   "metadata": {},
   "outputs": [
    {
     "data": {
      "text/plain": [
       "(5, 20)"
      ]
     },
     "execution_count": 25,
     "metadata": {},
     "output_type": "execute_result"
    }
   ],
   "source": [
    "D = np.random.randn(N, M)\n",
    "D.shape"
   ]
  },
  {
   "cell_type": "code",
   "execution_count": 26,
   "metadata": {},
   "outputs": [
    {
     "data": {
      "text/plain": [
       "array([[-1.61626009, -1.07983235,  0.66679199,  1.58362562, -1.09179905,\n",
       "        -0.34561363,  0.80384697,  0.65372569, -1.28700934, -2.2131691 ,\n",
       "        -0.60997058, -1.62813229,  1.58591316,  0.7495613 ,  0.42910988,\n",
       "        -1.45566402,  1.23059461,  0.57307666,  0.68986824, -0.59012879],\n",
       "       [-0.53093704, -1.57836045, -0.71006919,  0.96883648,  1.64428728,\n",
       "         0.49937811,  0.88322784, -2.58115677, -0.87129026,  0.93404375,\n",
       "         0.89278247,  0.59733721, -0.30695923, -0.06653112, -2.38502601,\n",
       "        -0.72074212, -1.5920858 , -0.26831971, -2.44717994,  1.54080631],\n",
       "       [-0.20672133, -1.35996078, -1.21111407,  0.95177442, -0.32097569,\n",
       "        -0.41301312,  0.06953077, -1.19412647, -0.1183899 ,  0.40879213,\n",
       "         0.69016425, -0.47302659, -0.97099078, -0.29682705, -0.51676163,\n",
       "        -1.02987551,  1.87663064, -0.28805682,  0.59851011,  0.11268812],\n",
       "       [-0.31222359, -1.74280736,  1.30055701, -0.86982835, -1.02472461,\n",
       "         1.88510694, -0.33560057,  1.50040682,  0.47072922, -1.06239582,\n",
       "        -1.86466176,  0.21147002,  2.06751475, -0.21517281,  0.91252342,\n",
       "         1.61918363,  0.39767699,  0.84246901,  2.63725068,  0.4394781 ],\n",
       "       [ 0.763422  , -1.49466928,  1.09795808,  0.72767081, -0.3170849 ,\n",
       "        -0.99077118, -0.59169558, -0.78142547, -0.21603419,  0.888889  ,\n",
       "         1.24678963, -0.83317268, -2.31506048, -0.60149398,  1.12748802,\n",
       "        -0.11803826,  0.87216994,  0.54168407, -2.00306562, -0.82934899]])"
      ]
     },
     "execution_count": 26,
     "metadata": {},
     "output_type": "execute_result"
    }
   ],
   "source": [
    "D"
   ]
  },
  {
   "cell_type": "code",
   "execution_count": 27,
   "metadata": {},
   "outputs": [
    {
     "data": {
      "text/plain": [
       "array([[0.],\n",
       "       [0.],\n",
       "       [0.],\n",
       "       [0.],\n",
       "       [0.],\n",
       "       [0.],\n",
       "       [0.],\n",
       "       [0.],\n",
       "       [0.],\n",
       "       [0.],\n",
       "       [0.],\n",
       "       [0.],\n",
       "       [0.],\n",
       "       [0.],\n",
       "       [0.],\n",
       "       [0.],\n",
       "       [0.],\n",
       "       [0.],\n",
       "       [0.],\n",
       "       [0.]])"
      ]
     },
     "execution_count": 27,
     "metadata": {},
     "output_type": "execute_result"
    }
   ],
   "source": [
    "x0 = np.zeros((M, 1))\n",
    "x0"
   ]
  },
  {
   "cell_type": "code",
   "execution_count": 28,
   "metadata": {},
   "outputs": [
    {
     "data": {
      "text/plain": [
       "array([ 7, 18, 13, 11,  6, 14,  2, 15,  0,  5, 10, 12, 16,  4,  3,  9, 17,\n",
       "        8,  1])"
      ]
     },
     "execution_count": 28,
     "metadata": {},
     "output_type": "execute_result"
    }
   ],
   "source": [
    "si = np.random.permutation(list(range(0, M-1)))\n",
    "si"
   ]
  },
  {
   "cell_type": "code",
   "execution_count": 29,
   "metadata": {},
   "outputs": [
    {
     "data": {
      "text/plain": [
       "array([[ 0.        ],\n",
       "       [ 0.        ],\n",
       "       [ 0.        ],\n",
       "       [ 0.        ],\n",
       "       [ 0.        ],\n",
       "       [ 0.        ],\n",
       "       [ 0.        ],\n",
       "       [-0.88445311],\n",
       "       [ 0.        ],\n",
       "       [ 0.        ],\n",
       "       [ 0.        ],\n",
       "       [ 0.        ],\n",
       "       [ 0.        ],\n",
       "       [ 0.        ],\n",
       "       [ 0.        ],\n",
       "       [ 0.        ],\n",
       "       [ 0.        ],\n",
       "       [ 0.        ],\n",
       "       [-0.42621548],\n",
       "       [ 0.        ]])"
      ]
     },
     "execution_count": 29,
     "metadata": {},
     "output_type": "execute_result"
    }
   ],
   "source": [
    "x0[si[0:L]] = np.random.randn(L, 1)\n",
    "x0"
   ]
  },
  {
   "cell_type": "code",
   "execution_count": null,
   "metadata": {},
   "outputs": [],
   "source": []
  }
 ],
 "metadata": {
  "kernelspec": {
   "display_name": "Python 3",
   "language": "python",
   "name": "python3"
  },
  "language_info": {
   "codemirror_mode": {
    "name": "ipython",
    "version": 3
   },
   "file_extension": ".py",
   "mimetype": "text/x-python",
   "name": "python",
   "nbconvert_exporter": "python",
   "pygments_lexer": "ipython3",
   "version": "3.6.4"
  }
 },
 "nbformat": 4,
 "nbformat_minor": 1
}
